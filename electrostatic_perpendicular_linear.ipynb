{
 "cells": [
  {
   "cell_type": "markdown",
   "id": "59043ae3-97f7-42f5-b32e-b4d58389b478",
   "metadata": {},
   "source": [
    "Aug 1st, 2025\n",
    "\n",
    "\n",
    "Author: Opal Issan (oissan@ucsd.edu)"
   ]
  },
  {
   "cell_type": "code",
   "execution_count": 1,
   "id": "ca84c6b5-53fe-4ac0-b2d6-008d9e1e0307",
   "metadata": {},
   "outputs": [],
   "source": [
    "import sys, os\n",
    "sys.path.append(os.path.abspath(os.path.join('..')))"
   ]
  },
  {
   "cell_type": "code",
   "execution_count": 2,
   "id": "af91a5fa-c454-477b-91b8-4ee3160d4eed",
   "metadata": {},
   "outputs": [],
   "source": [
    "import numpy as np\n",
    "import matplotlib.pyplot as plt\n",
    "from scipy.special import wofz \n",
    "import scipy\n",
    "from QLT_equations.general_plasma_equations import Z_prime, I"
   ]
  },
  {
   "cell_type": "code",
   "execution_count": 3,
   "id": "ba2d9699-03c1-4878-a6eb-77c7a0aae0aa",
   "metadata": {},
   "outputs": [],
   "source": [
    "from scipy.ndimage import gaussian_filter"
   ]
  },
  {
   "cell_type": "code",
   "execution_count": 4,
   "id": "da1ac8fa-e856-42c0-a9b2-6414deba9b33",
   "metadata": {},
   "outputs": [],
   "source": [
    "%matplotlib inline\n",
    "import matplotlib\n",
    "font = {'family' : 'sans-serif',\n",
    "        'size'   : 14}\n",
    "\n",
    "matplotlib.rc('font', **font)\n",
    "matplotlib.rc('xtick', labelsize=14) \n",
    "matplotlib.rc('ytick', labelsize=14) "
   ]
  },
  {
   "cell_type": "code",
   "execution_count": 116,
   "id": "8cb2cfac-8d1f-4a17-8f27-27e79db01379",
   "metadata": {},
   "outputs": [],
   "source": [
    "# normalization \n",
    "# time is normalized to the proton cyclotron frequency 1/Omega_cp\n",
    "# space is normalized to ion inertial length d_i\n",
    "\n",
    "# cold electron density \n",
    "ne = 1 # ne\n",
    "# cold He+ density\n",
    "nHe = 0 # ne\n",
    "# cold O+ density\n",
    "nO = 0. # ne\n",
    "# hot proton density \n",
    "npH = 0.1 # ne\n",
    "# cold proton density \n",
    "npC = 1 - npH -nO -nHe# ne\n",
    "\n",
    "# mass ratios\n",
    "mp_me = 1000 # dimensionless\n",
    "mO_mp = 16 # dimensionless\n",
    "mHe_mp = 4 # dimensionless\n",
    "\n",
    "# driver properties\n",
    "omega0 = 0.5 / mp_me # Omega_ce\n",
    "BD_B0 = 2 # dimensionless\n",
    "k0 = 0.54 * np.sqrt(mp_me) # d_e\n",
    "\n",
    "omega_pe = 4 # Omega_ce\n",
    "\n",
    "# assume the plasma is isothermal Te=Tp=TO+=THe+\n",
    "alpha_c_perp = 0.0079 / 5 # d_e x Omega_ce 0.0007\n",
    "alpha_c_par = alpha_c_perp # d_e x Omega_ce\n",
    "alpha_p_par =  alpha_c_perp / np.sqrt(mp_me) # d_e x Omega_ce\n",
    "alpha_He_par =  alpha_c_perp / np.sqrt(mp_me * mHe_mp)  # de x Omega_ce\n",
    "alpha_O_par =  alpha_c_perp / np.sqrt(mp_me * mO_mp)  # de x Omega_ce\n",
    "\n",
    "# # drifts \n",
    "# VDp = np.abs(omega0/k0 * BD_B0 * (1 / mp_me/(omega0 + 1/mp_me))) # de x Omega_ce \n",
    "# VDe = np.abs(omega0/k0 * BD_B0 * (-1 /(omega0 - 1))) # de x Omega_ce\n",
    "# VDO = np.abs(omega0/k0 * BD_B0 * (1 / (mO_mp*mp_me) /(omega0 + 1/(mO_mp*mp_me))))\n",
    "# VDHe = np.abs(omega0/k0 * BD_B0 * (1 /(mHe_mp*mp_me) /(omega0 + 1/(mHe_mp*mp_me))))\n",
    "\n",
    "# relative drift is what matters\n",
    "UDp =VDp-VDe\n",
    "UDO = VDO-VDe\n",
    "UDHe = VDHe -VDe\n",
    "\n",
    "omega_pi = omega_pe / np.sqrt(mp_me) # Omega_ce"
   ]
  },
  {
   "cell_type": "code",
   "execution_count": 117,
   "id": "c4b14f1f-6d1f-49ea-895f-4f56dae433ff",
   "metadata": {},
   "outputs": [
    {
     "data": {
      "text/plain": [
       "5.8589992406728895e-05"
      ]
     },
     "execution_count": 117,
     "metadata": {},
     "output_type": "execute_result"
    }
   ],
   "source": [
    "VDe"
   ]
  },
  {
   "cell_type": "code",
   "execution_count": 118,
   "id": "6700fd88-3e67-432b-ab2d-4749fc1605e3",
   "metadata": {},
   "outputs": [
    {
     "data": {
      "text/plain": [
       "3.904046494035036e-05"
      ]
     },
     "execution_count": 118,
     "metadata": {},
     "output_type": "execute_result"
    }
   ],
   "source": [
    "VDp"
   ]
  },
  {
   "cell_type": "code",
   "execution_count": 119,
   "id": "36fb9e33-65be-4861-b20a-b33770804b20",
   "metadata": {},
   "outputs": [
    {
     "data": {
      "text/plain": [
       "-0.3912723669226391"
      ]
     },
     "execution_count": 119,
     "metadata": {},
     "output_type": "execute_result"
    }
   ],
   "source": [
    "UDp/alpha_p_par"
   ]
  },
  {
   "cell_type": "code",
   "execution_count": 120,
   "id": "6fd1e685-7019-403b-a446-dd1ef6ad5a85",
   "metadata": {},
   "outputs": [
    {
     "data": {
      "text/plain": [
       "-4.169663098987113"
      ]
     },
     "execution_count": 120,
     "metadata": {},
     "output_type": "execute_result"
    }
   ],
   "source": [
    "UDO/alpha_O_par"
   ]
  },
  {
   "cell_type": "code",
   "execution_count": 121,
   "id": "8dd0fa68-da1c-4e50-8e62-908412e8b682",
   "metadata": {},
   "outputs": [
    {
     "data": {
      "text/plain": [
       "-1.563916823234245"
      ]
     },
     "execution_count": 121,
     "metadata": {},
     "output_type": "execute_result"
    }
   ],
   "source": [
    "UDHe/alpha_He_par"
   ]
  },
  {
   "cell_type": "markdown",
   "id": "f922496c-a06a-49f9-a94e-162119168561",
   "metadata": {},
   "source": [
    "# dispersion relation \n",
    "\n",
    "\\begin{align*}\n",
    "    |\\vec{k}|^2  + 2 \\frac{\\omega_{pe}^2}{\\alpha_{\\| c}^2}   \\left[ 1 -  \\Gamma_{0}(\\lambda_{c}) \\right] \n",
    "    = \\sum_{s=\\{He^{+}, O^{+}, p\\}}\\frac{\\omega_{ps}^2}{\\alpha_{\\| s}^2}  Z' \\left( \\frac{\\omega - k_{\\perp} |\\vec{U}_{Ds}|}{\\alpha_{\\| s} |\\vec{k}|}\\right)\n",
    "\\end{align*}"
   ]
  },
  {
   "cell_type": "code",
   "execution_count": 122,
   "id": "d8c54c08-5b7a-4fd9-b1bd-5d21f76643d1",
   "metadata": {},
   "outputs": [],
   "source": [
    "def cold_electron_response(k_perp_, omega, omega_pe_, alpha_c_perp_, alpha_c_par_):\n",
    "    lambda_ =  (k_perp_*alpha_c_perp_/np.sqrt(2))**2\n",
    "    return 2 * (omega_pe_**2) / (alpha_c_par_**2) * (1 - I(m=0, Lambda=lambda_))\n",
    "\n",
    "def ion_response(omega_pi_, alpha_i_, k_perp_, v_0_, omega_0_, n_, omega):\n",
    "    return n_ * (omega_pi_ ** 2) / (alpha_i_ ** 2) *  Z_prime(z=(omega - k_perp * v_0_) / (alpha_i_ * np.abs(k_perp)))"
   ]
  },
  {
   "cell_type": "code",
   "execution_count": 123,
   "id": "fc5fe928-4942-419b-9c8d-f53150b7fadc",
   "metadata": {},
   "outputs": [],
   "source": [
    "def disp_k(k_perp,\n",
    "                  npC_=npC,\n",
    "                  nO_=nO,\n",
    "                  nHe_=nHe,\n",
    "                  omega_pe_=omega_pe,\n",
    "                  omega_pi_=omega_pi,\n",
    "                  omega_0_=omega0,\n",
    "                  VDp_=UDp,\n",
    "                  VDHe_=UDHe,\n",
    "                  VDO_=UDO,\n",
    "                  alpha_p_par_=alpha_p_par, \n",
    "                  alpha_O_par_=alpha_O_par,\n",
    "                  alpha_He_par_=alpha_He_par,\n",
    "                  alpha_c_perp_=alpha_c_perp, \n",
    "                 alpha_c_par_=alpha_c_par):\n",
    "    return lambda omega: k_perp ** 2 \\\n",
    "                         + cold_electron_response(k_perp_=k_perp, omega=omega, omega_pe_=omega_pe, alpha_c_perp_=alpha_c_perp_, alpha_c_par_=alpha_c_par_) \\\n",
    "                         - ion_response(omega_pi_=omega_pi_, n_=npC_, alpha_i_=alpha_p_par_, k_perp_=k_perp, v_0_=VDp_, omega_0_=omega_0_, omega=omega)\\\n",
    "                         - ion_response(omega_pi_=omega_pi_/np.sqrt(mO_mp), n_=nO_, alpha_i_=alpha_O_par_, k_perp_=k_perp, v_0_=VDO_, omega_0_=omega_0_, omega=omega)\\\n",
    "                         - ion_response(omega_pi_=omega_pi_/np.sqrt(mHe_mp), n_=nHe_, alpha_i_=alpha_He_par_, k_perp_=k_perp, v_0_=VDHe_, omega_0_=omega_0_, omega=omega)"
   ]
  },
  {
   "cell_type": "code",
   "execution_count": null,
   "id": "d1882db2-7e7a-4ef4-8ff6-066208ecca06",
   "metadata": {},
   "outputs": [],
   "source": []
  },
  {
   "cell_type": "code",
   "execution_count": 139,
   "id": "cf5c13d1-ff96-46a8-ac80-30908e6fcfc8",
   "metadata": {},
   "outputs": [
    {
     "ename": "RuntimeError",
     "evalue": "Failed to converge after 10000 iterations, value is (nan+nanj).",
     "output_type": "error",
     "traceback": [
      "\u001B[0;31m---------------------------------------------------------------------------\u001B[0m",
      "\u001B[0;31mRuntimeError\u001B[0m                              Traceback (most recent call last)",
      "Cell \u001B[0;32mIn[139], line 5\u001B[0m\n\u001B[1;32m      1\u001B[0m k_perp \u001B[38;5;241m=\u001B[39m\u001B[38;5;241m0.05\u001B[39m \u001B[38;5;241m/\u001B[39m alpha_c_perp \u001B[38;5;241m*\u001B[39mnp\u001B[38;5;241m.\u001B[39msqrt(\u001B[38;5;241m2\u001B[39m) \u001B[38;5;66;03m# d_e\u001B[39;00m\n\u001B[1;32m      2\u001B[0m omega_guess \u001B[38;5;241m=\u001B[39m \u001B[38;5;241m3\u001B[39m\u001B[38;5;241m/\u001B[39mmp_me \u001B[38;5;66;03m# Omega_ce \u001B[39;00m\n\u001B[0;32m----> 5\u001B[0m sol_approx \u001B[38;5;241m=\u001B[39m \u001B[43mscipy\u001B[49m\u001B[38;5;241;43m.\u001B[39;49m\u001B[43moptimize\u001B[49m\u001B[38;5;241;43m.\u001B[39;49m\u001B[43mnewton\u001B[49m\u001B[43m(\u001B[49m\u001B[43mdisp_k\u001B[49m\u001B[43m(\u001B[49m\u001B[43mk_perp\u001B[49m\u001B[38;5;241;43m=\u001B[39;49m\u001B[43mk_perp\u001B[49m\u001B[43m)\u001B[49m\u001B[43m,\u001B[49m\u001B[43m \u001B[49m\u001B[43momega_guess\u001B[49m\u001B[43m \u001B[49m\u001B[38;5;241;43m+\u001B[39;49m\u001B[43m \u001B[49m\u001B[38;5;241;43m0.05\u001B[39;49m\u001B[43mj\u001B[49m\u001B[43m,\u001B[49m\u001B[43m \u001B[49m\u001B[43mtol\u001B[49m\u001B[38;5;241;43m=\u001B[39;49m\u001B[38;5;241;43m1e-11\u001B[39;49m\u001B[43m,\u001B[49m\u001B[43m \u001B[49m\u001B[43mmaxiter\u001B[49m\u001B[38;5;241;43m=\u001B[39;49m\u001B[38;5;241;43m10000\u001B[39;49m\u001B[43m,\u001B[49m\u001B[43m \u001B[49m\u001B[43mx1\u001B[49m\u001B[38;5;241;43m=\u001B[39;49m\u001B[43momega_guess\u001B[49m\u001B[38;5;241;43m*\u001B[39;49m\u001B[38;5;241;43m0.99\u001B[39;49m\u001B[43m \u001B[49m\u001B[38;5;241;43m+\u001B[39;49m\u001B[43m \u001B[49m\u001B[38;5;241;43m1e-2j\u001B[39;49m\u001B[43m)\u001B[49m\n\u001B[1;32m      6\u001B[0m \u001B[38;5;28mprint\u001B[39m(sol_approx)\n\u001B[1;32m      7\u001B[0m \u001B[38;5;28mprint\u001B[39m(\u001B[38;5;124m\"\u001B[39m\u001B[38;5;124momega_k + i gamma = \u001B[39m\u001B[38;5;124m\"\u001B[39m, sol_approx)\n",
      "File \u001B[0;32m/opt/anaconda3/envs/rom/lib/python3.9/site-packages/scipy/optimize/_zeros_py.py:394\u001B[0m, in \u001B[0;36mnewton\u001B[0;34m(func, x0, fprime, args, tol, maxiter, fprime2, x1, rtol, full_output, disp)\u001B[0m\n\u001B[1;32m    391\u001B[0m \u001B[38;5;28;01mif\u001B[39;00m disp:\n\u001B[1;32m    392\u001B[0m     msg \u001B[38;5;241m=\u001B[39m (\u001B[38;5;124m\"\u001B[39m\u001B[38;5;124mFailed to converge after \u001B[39m\u001B[38;5;132;01m%d\u001B[39;00m\u001B[38;5;124m iterations, value is \u001B[39m\u001B[38;5;132;01m%s\u001B[39;00m\u001B[38;5;124m.\u001B[39m\u001B[38;5;124m\"\u001B[39m\n\u001B[1;32m    393\u001B[0m            \u001B[38;5;241m%\u001B[39m (itr \u001B[38;5;241m+\u001B[39m \u001B[38;5;241m1\u001B[39m, p))\n\u001B[0;32m--> 394\u001B[0m     \u001B[38;5;28;01mraise\u001B[39;00m \u001B[38;5;167;01mRuntimeError\u001B[39;00m(msg)\n\u001B[1;32m    396\u001B[0m \u001B[38;5;28;01mreturn\u001B[39;00m _results_select(full_output, (p, funcalls, itr \u001B[38;5;241m+\u001B[39m \u001B[38;5;241m1\u001B[39m, _ECONVERR), method)\n",
      "\u001B[0;31mRuntimeError\u001B[0m: Failed to converge after 10000 iterations, value is (nan+nanj)."
     ]
    }
   ],
   "source": [
    "k_perp =0.05 / alpha_c_perp *np.sqrt(2) # d_e\n",
    "omega_guess = 3/mp_me # Omega_ce \n",
    "\n",
    "\n",
    "sol_approx = scipy.optimize.newton(disp_k(k_perp=k_perp), omega_guess + 0.05j, tol=1e-11, maxiter=10000, x1=omega_guess*0.99 + 1e-2j)\n",
    "print(sol_approx)\n",
    "print(\"omega_k + i gamma = \", sol_approx)\n",
    "print(\"dispersion residual approx = \", abs(disp_k(k_perp=k_perp)(sol_approx)))"
   ]
  },
  {
   "cell_type": "code",
   "execution_count": null,
   "id": "8b81b1f1-322d-4cfb-bcb1-9bcceb280c4a",
   "metadata": {},
   "outputs": [],
   "source": [
    "k_perp_ = np.linspace(0.05, 0.12, 60) / alpha_c_perp * np.sqrt(2) # d_e\n",
    "sol_ = np.zeros(len(k_perp_), dtype=\"complex128\")"
   ]
  },
  {
   "cell_type": "code",
   "execution_count": 134,
   "id": "5e8b3a34-15e5-497d-b1d2-d2b2a217f1f4",
   "metadata": {},
   "outputs": [
    {
     "name": "stdout",
     "output_type": "stream",
     "text": [
      "An exception occurred\n",
      "An exception occurred\n",
      "An exception occurred\n",
      "An exception occurred\n",
      "An exception occurred\n",
      "An exception occurred\n",
      "An exception occurred\n",
      "An exception occurred\n",
      "An exception occurred\n",
      "An exception occurred\n",
      "An exception occurred\n",
      "An exception occurred\n",
      "An exception occurred\n",
      "An exception occurred\n",
      "An exception occurred\n",
      "An exception occurred\n",
      "An exception occurred\n",
      "An exception occurred\n",
      "An exception occurred\n",
      "An exception occurred\n",
      "An exception occurred\n",
      "An exception occurred\n",
      "An exception occurred\n",
      "An exception occurred\n",
      "An exception occurred\n",
      "An exception occurred\n",
      "An exception occurred\n",
      "An exception occurred\n",
      "An exception occurred\n",
      "An exception occurred\n",
      "An exception occurred\n",
      "An exception occurred\n",
      "An exception occurred\n",
      "An exception occurred\n",
      "An exception occurred\n",
      "An exception occurred\n",
      "An exception occurred\n",
      "An exception occurred\n",
      "An exception occurred\n",
      "An exception occurred\n",
      "An exception occurred\n",
      "An exception occurred\n",
      "An exception occurred\n",
      "An exception occurred\n",
      "An exception occurred\n",
      "An exception occurred\n",
      "An exception occurred\n",
      "An exception occurred\n",
      "An exception occurred\n",
      "An exception occurred\n",
      "An exception occurred\n",
      "An exception occurred\n",
      "An exception occurred\n",
      "An exception occurred\n",
      "An exception occurred\n",
      "An exception occurred\n",
      "An exception occurred\n",
      "An exception occurred\n",
      "An exception occurred\n",
      "An exception occurred\n"
     ]
    }
   ],
   "source": [
    "for ii in range(len(k_perp_)):\n",
    "    try:\n",
    "        sol_[ii] = scipy.optimize.newton(disp_k(k_perp=k_perp_[ii]),  omega_guess + 0.0005j, tol=1e-11, maxiter=10000, x1=omega_guess*0.99 + 1e-2j)\n",
    "        print(\"dispersion residual = \", abs(disp_k(k_perp=k_perp_[ii])(sol_[ii])))\n",
    "    except:\n",
    "        print(\"An exception occurred\")"
   ]
  },
  {
   "cell_type": "code",
   "execution_count": 135,
   "id": "b8aefcd0-68c8-4fd8-a16b-cf128f1d4f58",
   "metadata": {},
   "outputs": [
    {
     "data": {
      "image/png": "[encoded data removed]",
      "text/plain": [
       "<Figure size 600x300 with 1 Axes>"
      ]
     },
     "metadata": {},
     "output_type": "display_data"
    }
   ],
   "source": [
    "fig, ax = plt.subplots(figsize=(6, 3))\n",
    "ax.plot(k_perp_*alpha_c_perp /np.sqrt(2), sol_.real * mp_me, linewidth=3, color=\"black\")\n",
    "ax.set_ylabel(r'$\\frac{\\omega_r}{|\\Omega_{cp}|}$', fontsize=22, labelpad=20, rotation=0)\n",
    "ax.set_xlabel(r'$k_{\\perp}\\rho_{e}$', fontsize=15)\n",
    "#ax.set_xticks([180, 200, 220, 240])\n",
    "#ax.set_xlim(175, 245)\n",
    "ax.spines['right'].set_visible(False)\n",
    "ax.spines['top'].set_visible(False)\n",
    "plt.grid(alpha=0.5)\n",
    "plt.tight_layout()\n",
    "#plt.savefig(\"../../figs/vadim_2021/vadim_fig5_a.png\", dpi=300, bbox_inches='tight')"
   ]
  },
  {
   "cell_type": "code",
   "execution_count": 136,
   "id": "2f99eb70-82cf-4721-9073-9ec918f01ae3",
   "metadata": {},
   "outputs": [
    {
     "data": {
      "image/png": "[encoded data removed]",
      "text/plain": [
       "<Figure size 600x300 with 1 Axes>"
      ]
     },
     "metadata": {},
     "output_type": "display_data"
    }
   ],
   "source": [
    "fig, ax = plt.subplots(figsize=(6, 3))\n",
    "ax.plot(k_perp_*alpha_c_perp / np.sqrt(2), sol_.imag * mp_me, linewidth=3, color=\"black\")\n",
    "ax.set_ylabel(r'$\\frac{\\gamma}{|\\Omega_{cp}|}$', fontsize=22, labelpad=20, rotation=0)\n",
    "ax.set_xlabel(r'$k_{\\perp}\\rho_{e}$', fontsize=15)\n",
    "#ax.set_xticks([180, 200, 220, 240])\n",
    "#ax.set_xlim(175, 245)\n",
    "ax.spines['right'].set_visible(False)\n",
    "ax.spines['top'].set_visible(False)\n",
    "plt.grid(alpha=0.5)\n",
    "plt.tight_layout()\n",
    "#plt.savefig(\"../../figs/vadim_2021/vadim_fig5_a.png\", dpi=300, bbox_inches='tight')"
   ]
  },
  {
   "cell_type": "code",
   "execution_count": null,
   "id": "965f5590-2a27-4385-9228-98ab045aea54",
   "metadata": {},
   "outputs": [],
   "source": []
  },
  {
   "cell_type": "code",
   "execution_count": null,
   "id": "f4b5f7fc-148e-41fd-8805-e864e9ccc9de",
   "metadata": {},
   "outputs": [],
   "source": []
  }
 ],
 "metadata": {
  "kernelspec": {
   "display_name": "Python 3 (ipykernel)",
   "language": "python",
   "name": "python3"
  },
  "language_info": {
   "codemirror_mode": {
    "name": "ipython",
    "version": 3
   },
   "file_extension": ".py",
   "mimetype": "text/x-python",
   "name": "python",
   "nbconvert_exporter": "python",
   "pygments_lexer": "ipython3",
   "version": "3.9.19"
  }
 },
 "nbformat": 4,
 "nbformat_minor": 5
}