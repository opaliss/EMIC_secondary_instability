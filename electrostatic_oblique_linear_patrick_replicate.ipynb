{
 "cells": [
  {
   "cell_type": "markdown",
   "id": "59043ae3-97f7-42f5-b32e-b4d58389b478",
   "metadata": {},
   "source": [
    "Aug 22nd, 2025\n",
    "\n",
    "\n",
    "Author: Opal Issan (oissan@ucsd.edu)"
   ]
  },
  {
   "cell_type": "code",
   "execution_count": 1,
   "id": "ca84c6b5-53fe-4ac0-b2d6-008d9e1e0307",
   "metadata": {},
   "outputs": [],
   "source": [
    "import sys, os\n",
    "sys.path.append(os.path.abspath(os.path.join('..')))"
   ]
  },
  {
   "cell_type": "code",
   "execution_count": 2,
   "id": "af91a5fa-c454-477b-91b8-4ee3160d4eed",
   "metadata": {},
   "outputs": [],
   "source": [
    "import numpy as np\n",
    "import matplotlib.pyplot as plt\n",
    "from scipy.special import wofz \n",
    "import scipy\n",
    "import math\n",
    "from QLT_equations.general_plasma_equations import Z_prime, I, Z"
   ]
  },
  {
   "cell_type": "code",
   "execution_count": 3,
   "id": "da1ac8fa-e856-42c0-a9b2-6414deba9b33",
   "metadata": {},
   "outputs": [],
   "source": [
    "%matplotlib inline\n",
    "import matplotlib\n",
    "font = {'family' : 'sans-serif',\n",
    "        'size'   : 14}\n",
    "\n",
    "matplotlib.rc('font', **font)\n",
    "matplotlib.rc('xtick', labelsize=14) \n",
    "matplotlib.rc('ytick', labelsize=14) "
   ]
  },
  {
   "cell_type": "code",
   "execution_count": 4,
   "id": "8cb2cfac-8d1f-4a17-8f27-27e79db01379",
   "metadata": {},
   "outputs": [],
   "source": [
    "# normalization\n",
    "# time is normalized to the electron cyclotron frequency\n",
    "# space is normalized to electron inertial length d_e\n",
    "\n",
    "# match the values in khazanov et al. The nonlinear coupling of electromagnetic ion cyclotron and lower hybrid\n",
    "\n",
    "# cold electron density\n",
    "ne = 1  # ne\n",
    "# cold He+ density\n",
    "nHe = 0  # ne\n",
    "# cold O+ density\n",
    "nO = 0.1 # ne\n",
    "# hot proton density\n",
    "npH = 0.1  # ne\n",
    "# cold proton density\n",
    "npC = 1 - npH - nO - nHe  # ne\n",
    "\n",
    "# mass ratios\n",
    "mp_me = 100  # dimensionless\n",
    "mO_mp = 16  # dimensionless\n",
    "mHe_mp = 4  # dimensionless\n",
    "\n",
    "omega_pe = 2 # Omega_ce\n",
    "\n",
    "# assume the plasma is isothermal Te=Tp=TO+=THe+\n",
    "alpha_c_perp = np.sqrt(1e-4)  # d_e x Omega_ce\n",
    "alpha_c_par = alpha_c_perp  # d_e x Omega_ce\n",
    "alpha_p_par = alpha_c_perp / np.sqrt(mp_me)  # d_e x Omega_ce\n",
    "alpha_He_par = alpha_c_perp / np.sqrt(mp_me * mHe_mp)  # de x Omega_ce\n",
    "alpha_O_par = alpha_c_perp / np.sqrt(mp_me * mO_mp)  # de x Omega_ce\n",
    "\n",
    "wLH = 1/np.sqrt(mp_me) # Omega_ce\n",
    "rhoe = alpha_c_perp/np.sqrt(2) # de \n",
    "\n",
    "# relative drift is what matters\n",
    "UDp = -3 * alpha_p_par / np.sqrt(2)\n",
    "UDO = 10 * alpha_p_par / np.sqrt(2)\n",
    "UDHe = 0. * alpha_p_par / np.sqrt(2)"
   ]
  },
  {
   "cell_type": "markdown",
   "id": "f922496c-a06a-49f9-a94e-162119168561",
   "metadata": {},
   "source": [
    "# dispersion relation \n",
    "\n",
    "\\begin{align*}\n",
    "    1 - \\frac{\\omega_{pe}^2}{\\omega^2 }\\cos(\\theta_{k})^2 + \\frac{\\omega_{pe}^2}{\\Omega_{ce}^2} \\sin(\\theta_{k})^2\n",
    "    = \\sum_{s=\\{He^{+}, O^{+}, p\\}}\\frac{\\omega_{ps}^2}{\\alpha_{\\| s}^2 |\\vec{k}|^2}  Z' \\left( \\frac{\\omega - k_{\\perp} U_{x, Ds}}{\\alpha_{\\| s} |\\vec{k}|}\\right).\n",
    "\\end{align*}"
   ]
  },
  {
   "cell_type": "code",
   "execution_count": 5,
   "id": "d8c54c08-5b7a-4fd9-b1bd-5d21f76643d1",
   "metadata": {},
   "outputs": [],
   "source": [
    "def cold_electron_response(k_, omega, omega_pe_, theta_):\n",
    "    k_perp = np.sin(theta_) * k_ \n",
    "    k_par = np.cos(theta_) * k_ \n",
    "    return - (np.cos(theta_)**2) * (omega_pe_**2)/(omega**2) + omega_pe_**2 * (np.sin(theta_)**2)\n",
    "\n",
    "def ion_response(omega_pi_, alpha_i_, k_, theta_, v_0_, n_, omega):\n",
    "    k_perp = np.sin(theta_) * k_ \n",
    "    k_par = np.cos(theta_) * k_ \n",
    "    return n_ * (omega_pi_ ** 2) / (alpha_i_ ** 2) / (k**2) * Z_prime(z=(omega - k_perp * v_0_) / (alpha_i_ * np.abs(k)))"
   ]
  },
  {
   "cell_type": "code",
   "execution_count": 6,
   "id": "fc5fe928-4942-419b-9c8d-f53150b7fadc",
   "metadata": {},
   "outputs": [],
   "source": [
    "def disp_k_(k,\n",
    "            theta,\n",
    "            npC_=npC,\n",
    "            nO_=nO,\n",
    "            nHe_=nHe,\n",
    "            omega_pe_=omega_pe,\n",
    "            mp_me_=mp_me,\n",
    "            mO_mp_=mO_mp,\n",
    "            mHe_mp_=mHe_mp,\n",
    "            VDp_=UDp,\n",
    "            VDHe_=UDHe,\n",
    "            VDO_=UDO,\n",
    "            alpha_p_par_=alpha_p_par,\n",
    "            alpha_O_par_=alpha_O_par,\n",
    "            alpha_He_par_=alpha_He_par):\n",
    "    return lambda omega: 1 + cold_electron_response(k_=k, omega=omega, omega_pe_=omega_pe_, theta_=theta) \\\n",
    "                         - ion_response(omega_pi_=omega_pe_ / np.sqrt(mp_me_), n_=npC_, alpha_i_=alpha_p_par_,\n",
    "                                        v_0_=VDp_, omega=omega, k_=k, theta_=theta) \\\n",
    "                         - ion_response(omega_pi_=omega_pe_ / np.sqrt(mp_me_ * mO_mp_), n_=nO_,\n",
    "                                        alpha_i_=alpha_O_par_, k_=k, v_0_=VDO_, omega=omega, theta_=theta) \\\n",
    "                         - ion_response(omega_pi_=omega_pe_ / np.sqrt(mp_me_ * mHe_mp_), n_=nHe_,\n",
    "                                        alpha_i_=alpha_He_par_, k_=k, v_0_=VDHe_, omega=omega, theta_=theta)"
   ]
  },
  {
   "cell_type": "markdown",
   "id": "22110bf9-c940-4fa8-98f4-f9d7641ce562",
   "metadata": {},
   "source": [
    "# Ion-ion current-driven instability \n",
    "\\begin{equation*}\n",
    "    k_{\\perp} \\approx\n",
    "\\frac{\\omega_{\\mathrm{LH}} \\sqrt{c_{cp}}}{U_{x, DO+}}\\qquad \\mathrm{and} \\qquad \\omega_{r} = \\left[1 - \\frac{1}{2^{\\frac{4}{3}}} \\left[\\frac{c_{O+}}{c_{cp}} \\frac{m_{p}}{ m_{O+}} \\right]^{\\frac{1}{3}} \\right] \\omega_{\\mathrm{LH}} \\sqrt{c_{cp}}.\n",
    "\\end{equation*}"
   ]
  },
  {
   "cell_type": "code",
   "execution_count": 7,
   "id": "cf5c13d1-ff96-46a8-ac80-30908e6fcfc8",
   "metadata": {},
   "outputs": [
    {
     "name": "stdout",
     "output_type": "stream",
     "text": [
      "(0.05660492403671557+1.652339965093076e-15j)\n",
      "omega_k + i gamma =  (0.5660492403671556+1.652339965093076e-14j)\n",
      "dispersion residual =  (3.9968028886505635e-14+1.724064501638112e-13j)\n"
     ]
    }
   ],
   "source": [
    "k =  np.sqrt(npC)*wLH/UDO # de\n",
    "angle = 0\n",
    "theta = np.pi/2 - angle * np.pi/ 180\n",
    "omega_guess = np.sqrt(npC) * (1 - 1/(2**(4/3)) * ((nO/npC / mO_mp)**(1/3))) * wLH  # Omega_ce\n",
    "\n",
    "\n",
    "sol_approx = scipy.optimize.newton(disp_k_(k=k, theta=theta), omega_guess + 0.005j, tol=1e-16, \n",
    "                                   maxiter=10000, x1=omega_guess*0.99 + 1e-2j)\n",
    "print(sol_approx)\n",
    "print(\"omega_k + i gamma = \", sol_approx/wLH)\n",
    "print(\"dispersion residual = \", disp_k_(k=k, theta=theta)(sol_approx))"
   ]
  },
  {
   "cell_type": "code",
   "execution_count": 8,
   "id": "8b81b1f1-322d-4cfb-bcb1-9bcceb280c4a",
   "metadata": {},
   "outputs": [],
   "source": [
    "k_ii = np.abs(np.linspace(0.5, 6, 40) * np.sqrt(npC) * wLH /UDO) # d_e\n",
    "theta_ii = np.pi/2 - np.linspace(0, 180, 20)*np.pi/180\n",
    "\n",
    "sol_ii = np.zeros((len(theta_ii), len(k_ii)), dtype=\"complex128\") * np.nan"
   ]
  },
  {
   "cell_type": "code",
   "execution_count": null,
   "id": "5e8b3a34-15e5-497d-b1d2-d2b2a217f1f4",
   "metadata": {
    "scrolled": true
   },
   "outputs": [
    {
     "name": "stderr",
     "output_type": "stream",
     "text": [
      "/Users/oissan/PycharmProjects/EMIC_secondary_instability/QLT_equations/general_plasma_equations.py:19: RuntimeWarning: invalid value encountered in scalar multiply\n",
      "  return 1j * np.sqrt(np.pi) * wofz(z)\n",
      "/opt/anaconda3/envs/rom/lib/python3.9/site-packages/scipy/optimize/_zeros_py.py:382: RuntimeWarning: invalid value encountered in scalar divide\n",
      "  p = (-q1 / q0 * p0 + p1) / (1 - q1 / q0)\n",
      "/var/folders/tt/hgb4_vc13z77x5wpt5lzk5j40000gn/T/ipykernel_25561/3181228115.py:4: RuntimeWarning: invalid value encountered in scalar divide\n",
      "  return - (np.cos(theta_)**2) * (omega_pe_**2)/(omega**2) + omega_pe_**2 * (np.sin(theta_)**2)\n",
      "/var/folders/tt/hgb4_vc13z77x5wpt5lzk5j40000gn/T/ipykernel_25561/3181228115.py:4: RuntimeWarning: invalid value encountered in scalar divide\n",
      "  return - (np.cos(theta_)**2) * (omega_pe_**2)/(omega**2) + omega_pe_**2 * (np.sin(theta_)**2)\n",
      "/opt/anaconda3/envs/rom/lib/python3.9/site-packages/scipy/optimize/_zeros_py.py:382: RuntimeWarning: invalid value encountered in scalar divide\n",
      "  p = (-q1 / q0 * p0 + p1) / (1 - q1 / q0)\n"
     ]
    },
    {
     "name": "stdout",
     "output_type": "stream",
     "text": [
      "An exception occurred\n",
      "dispersion residual =  1.5987213803903003e-14\n",
      "dispersion residual =  5.718938002884741e-15\n",
      "dispersion residual =  9.681149132352316e-14\n",
      "dispersion residual =  4.440892504426519e-16\n",
      "dispersion residual =  1.3325120274873716e-15\n",
      "dispersion residual =  1.3322987290402383e-15\n",
      "dispersion residual =  1.121325288469318e-14\n",
      "dispersion residual =  1.1324274859105258e-14\n",
      "dispersion residual =  3.3308164258621454e-16\n",
      "dispersion residual =  5.551136256407657e-15\n",
      "dispersion residual =  3.3306694437441907e-16\n",
      "dispersion residual =  2.220446049250313e-16\n",
      "dispersion residual =  1.2878587085775456e-14\n",
      "dispersion residual =  1.9984027769786945e-15\n",
      "dispersion residual =  2.666463768745607e-15\n",
      "dispersion residual =  4.440892137916306e-16\n",
      "dispersion residual =  3.512273282459248e-14\n",
      "dispersion residual =  1.0658158882114276e-14\n",
      "dispersion residual =  3.870453242135827e-14\n",
      "An exception occurred\n",
      "dispersion residual =  3.1086736972236938e-15\n",
      "dispersion residual =  7.061018437183306e-14\n",
      "dispersion residual =  2.2206883913868925e-15\n",
      "dispersion residual =  4.440892102125225e-16\n"
     ]
    },
    {
     "name": "stderr",
     "output_type": "stream",
     "text": [
      "/Users/oissan/PycharmProjects/EMIC_secondary_instability/QLT_equations/general_plasma_equations.py:19: RuntimeWarning: invalid value encountered in scalar multiply\n",
      "  return 1j * np.sqrt(np.pi) * wofz(z)\n",
      "/opt/anaconda3/envs/rom/lib/python3.9/site-packages/scipy/optimize/_zeros_py.py:382: RuntimeWarning: invalid value encountered in scalar divide\n",
      "  p = (-q1 / q0 * p0 + p1) / (1 - q1 / q0)\n",
      "/var/folders/tt/hgb4_vc13z77x5wpt5lzk5j40000gn/T/ipykernel_25561/3181228115.py:4: RuntimeWarning: invalid value encountered in scalar divide\n",
      "  return - (np.cos(theta_)**2) * (omega_pe_**2)/(omega**2) + omega_pe_**2 * (np.sin(theta_)**2)\n"
     ]
    },
    {
     "name": "stdout",
     "output_type": "stream",
     "text": [
      "dispersion residual =  0.0\n",
      "dispersion residual =  7.549516593874667e-15\n",
      "dispersion residual =  1.88738096094507e-15\n",
      "dispersion residual =  5.073816438899542e-16\n",
      "dispersion residual =  1.1213252582621593e-14\n",
      "dispersion residual =  9.45846064854825e-17\n",
      "dispersion residual =  1.0769163338864018e-14\n",
      "dispersion residual =  1.4654944839870973e-14\n",
      "dispersion residual =  2.226705996334337e-15\n",
      "dispersion residual =  2.220446049250313e-16\n",
      "dispersion residual =  1.0080825063596421e-13\n",
      "dispersion residual =  1.0214051836046407e-14\n",
      "dispersion residual =  4.505772098603303e-16\n",
      "dispersion residual =  6.628126747819992e-14\n",
      "dispersion residual =  6.953849680587847e-13\n",
      "dispersion residual =  4.049046671930593\n",
      "dispersion residual =  8.038014750879434e-14\n",
      "dispersion residual =  9.325889484994565e-15\n",
      "dispersion residual =  1.1546319690375763e-14\n",
      "dispersion residual =  3.996803175922044e-15\n",
      "dispersion residual =  7.949196856316121e-14\n",
      "dispersion residual =  4.192228759612883e-19\n",
      "dispersion residual =  3.8857807064477496e-15\n",
      "dispersion residual =  8.769868808404802e-15\n",
      "dispersion residual =  1.8886456202735036e-15\n",
      "dispersion residual =  4.440920402965039e-16\n",
      "dispersion residual =  8.870682574134787e-14\n",
      "dispersion residual =  1.0880185641326534e-14\n",
      "dispersion residual =  2.0961148573746151e-19\n",
      "dispersion residual =  9.570122620480936e-14\n",
      "dispersion residual =  2.0428105668370633e-14\n",
      "dispersion residual =  3.1086280348429166e-15\n",
      "dispersion residual =  8.748557682174182e-14\n",
      "dispersion residual =  7.817069072864493e-14\n",
      "dispersion residual =  7.421042812361384e-14\n"
     ]
    },
    {
     "name": "stderr",
     "output_type": "stream",
     "text": [
      "/Users/oissan/PycharmProjects/EMIC_secondary_instability/QLT_equations/general_plasma_equations.py:19: RuntimeWarning: invalid value encountered in scalar multiply\n",
      "  return 1j * np.sqrt(np.pi) * wofz(z)\n",
      "/opt/anaconda3/envs/rom/lib/python3.9/site-packages/scipy/optimize/_zeros_py.py:382: RuntimeWarning: invalid value encountered in scalar divide\n",
      "  p = (-q1 / q0 * p0 + p1) / (1 - q1 / q0)\n",
      "/var/folders/tt/hgb4_vc13z77x5wpt5lzk5j40000gn/T/ipykernel_25561/3181228115.py:4: RuntimeWarning: invalid value encountered in scalar divide\n",
      "  return - (np.cos(theta_)**2) * (omega_pe_**2)/(omega**2) + omega_pe_**2 * (np.sin(theta_)**2)\n"
     ]
    },
    {
     "name": "stdout",
     "output_type": "stream",
     "text": [
      "An exception occurred\n",
      "dispersion residual =  1.7941204122393365e-13\n",
      "dispersion residual =  7.1063370362496e-15\n",
      "dispersion residual =  1.1546319609456002e-14\n",
      "dispersion residual =  1.3322676295501878e-15\n",
      "dispersion residual =  1.0658141036401503e-14\n",
      "dispersion residual =  8.917199143562822e-16\n",
      "dispersion residual =  2.7773968546609688e-15\n",
      "dispersion residual =  4.447277066228599e-16\n",
      "dispersion residual =  1.110223102955739e-16\n",
      "dispersion residual =  2.220446049250313e-16\n",
      "dispersion residual =  1.1102230246251565e-16\n",
      "dispersion residual =  7.771561351115883e-15\n",
      "dispersion residual =  8.881784197001252e-14\n",
      "dispersion residual =  5.128808707391978e-15\n",
      "dispersion residual =  1.0658141036401503e-14\n",
      "dispersion residual =  1.117112379934522e-17\n",
      "dispersion residual =  1.6431300830150874e-14\n",
      "dispersion residual =  1.2436318302415136e-14\n",
      "dispersion residual =  5.506760004112054e-13\n",
      "An exception occurred\n",
      "dispersion residual =  7.727152253865055e-14\n",
      "dispersion residual =  7.54951665859543e-15\n",
      "dispersion residual =  9.327039477963601e-15\n",
      "dispersion residual =  8.926193118008011e-14\n",
      "dispersion residual =  8.881785905177068e-16\n",
      "dispersion residual =  7.5495171340687e-15\n",
      "dispersion residual =  2.553512993794682e-15\n",
      "dispersion residual =  9.081626793291774e-14\n",
      "dispersion residual =  3.3306690738754696e-16\n",
      "dispersion residual =  2.2204460512405815e-16\n",
      "dispersion residual =  9.99224755919245e-16\n",
      "dispersion residual =  2.5251746274828264e-15\n",
      "dispersion residual =  8.881784197001252e-16\n"
     ]
    },
    {
     "name": "stderr",
     "output_type": "stream",
     "text": [
      "/var/folders/tt/hgb4_vc13z77x5wpt5lzk5j40000gn/T/ipykernel_25561/3181228115.py:4: RuntimeWarning: invalid value encountered in scalar divide\n",
      "  return - (np.cos(theta_)**2) * (omega_pe_**2)/(omega**2) + omega_pe_**2 * (np.sin(theta_)**2)\n",
      "/opt/anaconda3/envs/rom/lib/python3.9/site-packages/scipy/optimize/_zeros_py.py:382: RuntimeWarning: invalid value encountered in scalar divide\n",
      "  p = (-q1 / q0 * p0 + p1) / (1 - q1 / q0)\n",
      "/Users/oissan/PycharmProjects/EMIC_secondary_instability/QLT_equations/general_plasma_equations.py:19: RuntimeWarning: invalid value encountered in scalar multiply\n",
      "  return 1j * np.sqrt(np.pi) * wofz(z)\n"
     ]
    },
    {
     "name": "stdout",
     "output_type": "stream",
     "text": [
      "dispersion residual =  1.0880185641326534e-14\n",
      "dispersion residual =  7.99360578422202e-15\n",
      "dispersion residual =  1.332267635775243e-15\n",
      "dispersion residual =  5.529923355048013e-14\n",
      "dispersion residual =  8.881784322966854e-16\n",
      "dispersion residual =  8.594227462162692e-13\n",
      "An exception occurred\n",
      "dispersion residual =  3.108624482193542e-15\n",
      "dispersion residual =  1.9539925233566526e-14\n",
      "dispersion residual =  9.325873456912123e-15\n",
      "dispersion residual =  3.1086265901626675e-15\n",
      "dispersion residual =  0.0\n",
      "dispersion residual =  8.881784218800889e-16\n",
      "dispersion residual =  8.559819585894231e-14\n",
      "dispersion residual =  4.441126642287953e-16\n",
      "dispersion residual =  1.1102597090094622e-16\n",
      "dispersion residual =  3.3306749904044924e-15\n",
      "dispersion residual =  1.00225389096246e-15\n",
      "dispersion residual =  0.0\n",
      "dispersion residual =  4.440892291567073e-16\n",
      "dispersion residual =  6.663903205203878e-16\n",
      "dispersion residual =  8.926193117986259e-14\n",
      "dispersion residual =  3.99680290068337e-15\n",
      "dispersion residual =  5.444533712761768e-13\n",
      "dispersion residual =  3.108788658628733e-15\n",
      "dispersion residual =  4.142323399595947e-13\n",
      "dispersion residual =  4.089587882817189\n",
      "dispersion residual =  8.17124177428536e-14\n",
      "dispersion residual =  9.769962616701378e-15\n",
      "dispersion residual =  8.88178435000212e-15\n",
      "dispersion residual =  3.996802888688582e-15\n",
      "dispersion residual =  1.11022308947317e-14\n",
      "dispersion residual =  2.285922812238832e-15\n",
      "dispersion residual =  1.0991223403039334e-14\n",
      "dispersion residual =  0.0\n",
      "dispersion residual =  1.4435964442018093e-15\n",
      "dispersion residual =  2.2204460500277616e-16\n",
      "dispersion residual =  1.0180745149358091e-13\n",
      "dispersion residual =  2.2204474479172547e-16\n",
      "dispersion residual =  0.0\n",
      "dispersion residual =  2.2220261305306916e-16\n",
      "dispersion residual =  8.43814720330566e-15\n",
      "dispersion residual =  8.465555516264835e-19\n",
      "dispersion residual =  1.9103552606387728e-14\n",
      "dispersion residual =  1.0569664066058945e-13\n",
      "dispersion residual =  7.331846490871451e-14\n",
      "dispersion residual =  8.540913594319283\n",
      "dispersion residual =  8.881788921157042e-16\n"
     ]
    },
    {
     "name": "stderr",
     "output_type": "stream",
     "text": [
      "/Users/oissan/PycharmProjects/EMIC_secondary_instability/QLT_equations/general_plasma_equations.py:19: RuntimeWarning: invalid value encountered in scalar multiply\n",
      "  return 1j * np.sqrt(np.pi) * wofz(z)\n",
      "/opt/anaconda3/envs/rom/lib/python3.9/site-packages/scipy/optimize/_zeros_py.py:382: RuntimeWarning: invalid value encountered in scalar divide\n",
      "  p = (-q1 / q0 * p0 + p1) / (1 - q1 / q0)\n",
      "/var/folders/tt/hgb4_vc13z77x5wpt5lzk5j40000gn/T/ipykernel_25561/3181228115.py:4: RuntimeWarning: invalid value encountered in scalar divide\n",
      "  return - (np.cos(theta_)**2) * (omega_pe_**2)/(omega**2) + omega_pe_**2 * (np.sin(theta_)**2)\n"
     ]
    },
    {
     "name": "stdout",
     "output_type": "stream",
     "text": [
      "dispersion residual =  1.5404242884727624e-15\n",
      "dispersion residual =  7.815970678950696e-14\n",
      "dispersion residual =  7.993606356987892e-15\n",
      "dispersion residual =  4.440897899253196e-16\n",
      "dispersion residual =  1.0658141036401542e-14\n",
      "dispersion residual =  9.880986627709735e-15\n",
      "dispersion residual =  1.1102230246251565e-14\n",
      "dispersion residual =  1.1102253046170482e-16\n",
      "dispersion residual =  8.903988657493755e-14\n",
      "dispersion residual =  1.1102230246251565e-16\n",
      "dispersion residual =  3.1114963397684027e-15\n",
      "dispersion residual =  4.440892098500626e-16\n",
      "dispersion residual =  6.661347541952191e-16\n",
      "dispersion residual =  2.2204462711866865e-15\n",
      "dispersion residual =  6.261657859135135e-14\n",
      "dispersion residual =  1.831133995105655e-14\n",
      "dispersion residual =  8.6694774094946335e-16\n",
      "dispersion residual =  3.5971487863986695e-13\n",
      "An exception occurred\n",
      "dispersion residual =  1.239464675023676e-13\n",
      "dispersion residual =  8.61284877689008e-15\n",
      "dispersion residual =  4.440892098509651e-16\n",
      "dispersion residual =  8.88178419718303e-16\n",
      "dispersion residual =  4.440960969494642e-16\n",
      "dispersion residual =  1.1102230251783896e-14\n",
      "dispersion residual =  8.892886427247504e-14\n",
      "dispersion residual =  8.918915145714847e-16\n",
      "dispersion residual =  1.1102230268642088e-16\n",
      "dispersion residual =  4.553765233756076e-16\n",
      "dispersion residual =  3.6637543982321765e-15\n",
      "dispersion residual =  2.220469507536571e-16\n",
      "dispersion residual =  2.2204460500344775e-15\n",
      "dispersion residual =  1.1102241327871327e-15\n",
      "dispersion residual =  0.0\n",
      "dispersion residual =  4.440892144569791e-16\n",
      "dispersion residual =  8.970602061244544e-14\n",
      "dispersion residual =  1.2434512496226098e-14\n",
      "dispersion residual =  2.1604957629144707e-12\n"
     ]
    },
    {
     "name": "stderr",
     "output_type": "stream",
     "text": [
      "/var/folders/tt/hgb4_vc13z77x5wpt5lzk5j40000gn/T/ipykernel_25561/3181228115.py:4: RuntimeWarning: invalid value encountered in scalar divide\n",
      "  return - (np.cos(theta_)**2) * (omega_pe_**2)/(omega**2) + omega_pe_**2 * (np.sin(theta_)**2)\n",
      "/opt/anaconda3/envs/rom/lib/python3.9/site-packages/scipy/optimize/_zeros_py.py:382: RuntimeWarning: invalid value encountered in scalar divide\n",
      "  p = (-q1 / q0 * p0 + p1) / (1 - q1 / q0)\n"
     ]
    },
    {
     "name": "stdout",
     "output_type": "stream",
     "text": [
      "An exception occurred"
     ]
    },
    {
     "name": "stderr",
     "output_type": "stream",
     "text": [
      "/var/folders/tt/hgb4_vc13z77x5wpt5lzk5j40000gn/T/ipykernel_25561/3181228115.py:4: RuntimeWarning: invalid value encountered in scalar divide\n",
      "  return - (np.cos(theta_)**2) * (omega_pe_**2)/(omega**2) + omega_pe_**2 * (np.sin(theta_)**2)\n",
      "/opt/anaconda3/envs/rom/lib/python3.9/site-packages/scipy/optimize/_zeros_py.py:382: RuntimeWarning: invalid value encountered in scalar divide\n",
      "  p = (-q1 / q0 * p0 + p1) / (1 - q1 / q0)\n"
     ]
    },
    {
     "name": "stdout",
     "output_type": "stream",
     "text": [
      "\n",
      "dispersion residual =  8.215650387608797e-14\n",
      "dispersion residual =  1.1102230246252531e-14\n",
      "dispersion residual =  9.326937837125306e-15\n",
      "dispersion residual =  2.664899159878872e-15\n",
      "dispersion residual =  1.3323034668288333e-15\n",
      "dispersion residual =  5.240324652148761e-20\n",
      "dispersion residual =  8.104628079823536e-15\n",
      "dispersion residual =  2.4611113377201403e-15\n",
      "dispersion residual =  7.771562312108535e-16\n",
      "dispersion residual =  1.5543124983655801e-15\n",
      "dispersion residual =  1.1102244598850822e-16\n",
      "dispersion residual =  1.0880185641326534e-14\n",
      "dispersion residual =  8.892478717996893e-16\n",
      "dispersion residual =  4.663681800578441e-15\n",
      "dispersion residual =  8.881811068975362e-16\n",
      "dispersion residual =  6.2172495204044126e-15\n",
      "dispersion residual =  1.3363231272001222e-15\n",
      "dispersion residual =  3.2862613389742985e-14\n",
      "dispersion residual =  2.30260679363903e-12\n",
      "dispersion residual =  3.6259689730350213\n",
      "dispersion residual =  1.0658609401449019e-13\n",
      "dispersion residual =  4.308296182245116e-15\n",
      "dispersion residual =  4.446484886904613e-16\n",
      "dispersion residual =  8.837375276039922e-14\n",
      "dispersion residual =  8.91195904732376e-16\n",
      "dispersion residual =  4.440892098500626e-16\n",
      "dispersion residual =  1.4432953254129991e-15\n",
      "dispersion residual =  2.8866141507485452e-15\n",
      "dispersion residual =  3.3306690738754696e-16\n",
      "dispersion residual =  4.559563575474705e-16\n",
      "dispersion residual =  1.8873980795574587e-15\n",
      "dispersion residual =  1.0214051826743979e-14\n",
      "dispersion residual =  3.552729274150691e-15\n",
      "dispersion residual =  4.663187859972002e-15\n",
      "dispersion residual =  1.0214055773455547e-14\n",
      "dispersion residual =  4.440892249898078e-16\n",
      "dispersion residual =  2.3814395450668447e-14\n",
      "dispersion residual =  4.4476564599737846e-15\n",
      "dispersion residual =  2.664541366901399e-14\n",
      "dispersion residual =  4.060003723212765\n",
      "dispersion residual =  1.0258466755235037e-13\n",
      "dispersion residual =  6.2172500281286356e-15\n",
      "dispersion residual =  8.881789212511436e-16\n",
      "dispersion residual =  7.105431755773193e-15\n",
      "dispersion residual =  2.220446049250313e-14\n",
      "dispersion residual =  1.3322676295501878e-15\n",
      "dispersion residual =  1.1103956123887934e-16\n",
      "dispersion residual =  1.776359641889453e-15\n",
      "dispersion residual =  5.551115123125783e-16\n",
      "dispersion residual =  2.221746651819396e-16\n",
      "dispersion residual =  1.0769163338864018e-14\n",
      "dispersion residual =  4.440897127421993e-16\n",
      "dispersion residual =  2.6645352591012935e-15\n",
      "dispersion residual =  3.3306691508075075e-15\n",
      "dispersion residual =  7.121528010749096e-20\n",
      "dispersion residual =  8.437809916271393e-15\n",
      "dispersion residual =  1.0214331085679072e-14\n",
      "dispersion residual =  1.8047920580779305e-15\n",
      "dispersion residual =  1.3349560367118712e-13\n"
     ]
    },
    {
     "name": "stderr",
     "output_type": "stream",
     "text": [
      "/Users/oissan/PycharmProjects/EMIC_secondary_instability/QLT_equations/general_plasma_equations.py:19: RuntimeWarning: invalid value encountered in scalar multiply\n",
      "  return 1j * np.sqrt(np.pi) * wofz(z)\n",
      "/opt/anaconda3/envs/rom/lib/python3.9/site-packages/scipy/optimize/_zeros_py.py:382: RuntimeWarning: invalid value encountered in scalar divide\n",
      "  p = (-q1 / q0 * p0 + p1) / (1 - q1 / q0)\n",
      "/var/folders/tt/hgb4_vc13z77x5wpt5lzk5j40000gn/T/ipykernel_25561/3181228115.py:4: RuntimeWarning: invalid value encountered in scalar divide\n",
      "  return - (np.cos(theta_)**2) * (omega_pe_**2)/(omega**2) + omega_pe_**2 * (np.sin(theta_)**2)\n",
      "/var/folders/tt/hgb4_vc13z77x5wpt5lzk5j40000gn/T/ipykernel_25561/3181228115.py:4: RuntimeWarning: invalid value encountered in scalar divide\n",
      "  return - (np.cos(theta_)**2) * (omega_pe_**2)/(omega**2) + omega_pe_**2 * (np.sin(theta_)**2)\n",
      "/opt/anaconda3/envs/rom/lib/python3.9/site-packages/scipy/optimize/_zeros_py.py:382: RuntimeWarning: invalid value encountered in scalar divide\n",
      "  p = (-q1 / q0 * p0 + p1) / (1 - q1 / q0)\n",
      "/var/folders/tt/hgb4_vc13z77x5wpt5lzk5j40000gn/T/ipykernel_25561/3181228115.py:4: RuntimeWarning: invalid value encountered in scalar divide\n",
      "  return - (np.cos(theta_)**2) * (omega_pe_**2)/(omega**2) + omega_pe_**2 * (np.sin(theta_)**2)\n",
      "/opt/anaconda3/envs/rom/lib/python3.9/site-packages/scipy/optimize/_zeros_py.py:382: RuntimeWarning: invalid value encountered in scalar divide\n",
      "  p = (-q1 / q0 * p0 + p1) / (1 - q1 / q0)\n"
     ]
    },
    {
     "name": "stdout",
     "output_type": "stream",
     "text": [
      "An exception occurred\n",
      "dispersion residual =  2.5717148170891853e-13\n",
      "dispersion residual =  2.2000807181194123e-15\n",
      "dispersion residual =  5.195113912415539e-18\n",
      "dispersion residual =  1.7763568394002505e-15\n",
      "dispersion residual =  9.769962616726544e-15\n",
      "dispersion residual =  1.776356863929898e-15\n",
      "dispersion residual =  5.551266650993822e-16\n",
      "dispersion residual =  8.859579736512142e-14\n",
      "dispersion residual =  5.551117690756004e-16\n",
      "dispersion residual =  2.220446049250313e-16\n",
      "dispersion residual =  3.3306690738754696e-16\n",
      "dispersion residual =  8.881791796322341e-16\n",
      "dispersion residual =  4.441204389983604e-16\n",
      "dispersion residual =  1.1102269485745663e-15\n",
      "dispersion residual =  4.440892098500626e-16\n",
      "dispersion residual =  1.1990612217683393e-14\n",
      "dispersion residual =  6.261756416381172e-14\n",
      "dispersion residual =  2.9237443091065125e-15\n",
      "dispersion residual =  4.636291546432802e-12\n"
     ]
    },
    {
     "name": "stderr",
     "output_type": "stream",
     "text": [
      "/Users/oissan/PycharmProjects/EMIC_secondary_instability/QLT_equations/general_plasma_equations.py:19: RuntimeWarning: invalid value encountered in scalar multiply\n",
      "  return 1j * np.sqrt(np.pi) * wofz(z)\n",
      "/opt/anaconda3/envs/rom/lib/python3.9/site-packages/scipy/optimize/_zeros_py.py:382: RuntimeWarning: invalid value encountered in scalar divide\n",
      "  p = (-q1 / q0 * p0 + p1) / (1 - q1 / q0)\n",
      "/var/folders/tt/hgb4_vc13z77x5wpt5lzk5j40000gn/T/ipykernel_25561/3181228115.py:4: RuntimeWarning: invalid value encountered in scalar divide\n",
      "  return - (np.cos(theta_)**2) * (omega_pe_**2)/(omega**2) + omega_pe_**2 * (np.sin(theta_)**2)\n",
      "/var/folders/tt/hgb4_vc13z77x5wpt5lzk5j40000gn/T/ipykernel_25561/3181228115.py:4: RuntimeWarning: invalid value encountered in scalar divide\n",
      "  return - (np.cos(theta_)**2) * (omega_pe_**2)/(omega**2) + omega_pe_**2 * (np.sin(theta_)**2)\n",
      "/opt/anaconda3/envs/rom/lib/python3.9/site-packages/scipy/optimize/_zeros_py.py:382: RuntimeWarning: invalid value encountered in scalar divide\n",
      "  p = (-q1 / q0 * p0 + p1) / (1 - q1 / q0)\n"
     ]
    },
    {
     "name": "stdout",
     "output_type": "stream",
     "text": [
      "An exception occurred\n",
      "dispersion residual =  1.007885705430822e-13\n",
      "dispersion residual =  4.442974623838718e-16\n",
      "dispersion residual =  4.4408932377656395e-15\n",
      "dispersion residual =  4.497965725082941e-16\n",
      "dispersion residual =  1.2434497955219085e-14\n",
      "dispersion residual =  4.441018743744416e-16\n",
      "dispersion residual =  2.99920901255163e-15\n",
      "dispersion residual =  1.1102230308303252e-15\n",
      "dispersion residual =  1.165772284778968e-14\n",
      "dispersion residual =  4.512890466105165e-19\n",
      "dispersion residual =  1.1102230246251565e-16\n",
      "dispersion residual =  1.1103733556888204e-15\n",
      "dispersion residual =  4.912847806906971e-21\n",
      "dispersion residual =  9.992010056675557e-15\n",
      "dispersion residual =  9.330782100876941e-15\n",
      "dispersion residual =  7.682743333587197e-14\n",
      "dispersion residual =  6.6613419039547695e-15\n",
      "dispersion residual =  5.1071023242493295e-14\n",
      "dispersion residual =  1.4028861116135907e-13\n"
     ]
    },
    {
     "name": "stderr",
     "output_type": "stream",
     "text": [
      "/Users/oissan/PycharmProjects/EMIC_secondary_instability/QLT_equations/general_plasma_equations.py:19: RuntimeWarning: invalid value encountered in scalar multiply\n",
      "  return 1j * np.sqrt(np.pi) * wofz(z)\n"
     ]
    },
    {
     "name": "stdout",
     "output_type": "stream",
     "text": [
      "An exception occurred\n",
      "dispersion residual =  5.595532129187659e-14\n",
      "dispersion residual =  9.903189475678223e-14\n",
      "dispersion residual =  1.2878587103946938e-14\n",
      "dispersion residual =  6.2172489464890475e-15\n",
      "dispersion residual =  8.881784197001252e-16\n",
      "dispersion residual =  4.440892098500628e-16\n",
      "dispersion residual =  8.848477506262498e-14\n",
      "dispersion residual =  5.995216648400623e-15\n",
      "dispersion residual =  1.1102230246251565e-16\n",
      "dispersion residual =  2.2223723009555294e-16\n",
      "dispersion residual =  1.1102254268727406e-16\n",
      "dispersion residual =  8.881785311533433e-16\n",
      "dispersion residual =  4.440892216857929e-16\n",
      "dispersion residual =  6.661338147750939e-16\n",
      "dispersion residual =  2.220452334783792e-15\n",
      "dispersion residual =  8.526512841634966e-14\n",
      "dispersion residual =  7.549516730450979e-14\n",
      "dispersion residual =  4.130030991805871e-14\n",
      "dispersion residual =  5.706546348937419e-13\n"
     ]
    },
    {
     "name": "stderr",
     "output_type": "stream",
     "text": [
      "/Users/oissan/PycharmProjects/EMIC_secondary_instability/QLT_equations/general_plasma_equations.py:19: RuntimeWarning: invalid value encountered in scalar multiply\n",
      "  return 1j * np.sqrt(np.pi) * wofz(z)\n",
      "/opt/anaconda3/envs/rom/lib/python3.9/site-packages/scipy/optimize/_zeros_py.py:382: RuntimeWarning: invalid value encountered in scalar divide\n",
      "  p = (-q1 / q0 * p0 + p1) / (1 - q1 / q0)\n",
      "/var/folders/tt/hgb4_vc13z77x5wpt5lzk5j40000gn/T/ipykernel_25561/3181228115.py:4: RuntimeWarning: invalid value encountered in scalar divide\n",
      "  return - (np.cos(theta_)**2) * (omega_pe_**2)/(omega**2) + omega_pe_**2 * (np.sin(theta_)**2)\n",
      "/var/folders/tt/hgb4_vc13z77x5wpt5lzk5j40000gn/T/ipykernel_25561/3181228115.py:4: RuntimeWarning: invalid value encountered in scalar divide\n",
      "  return - (np.cos(theta_)**2) * (omega_pe_**2)/(omega**2) + omega_pe_**2 * (np.sin(theta_)**2)\n",
      "/opt/anaconda3/envs/rom/lib/python3.9/site-packages/scipy/optimize/_zeros_py.py:382: RuntimeWarning: invalid value encountered in scalar divide\n",
      "  p = (-q1 / q0 * p0 + p1) / (1 - q1 / q0)\n",
      "/Users/oissan/PycharmProjects/EMIC_secondary_instability/QLT_equations/general_plasma_equations.py:19: RuntimeWarning: invalid value encountered in scalar multiply\n",
      "  return 1j * np.sqrt(np.pi) * wofz(z)\n"
     ]
    },
    {
     "name": "stdout",
     "output_type": "stream",
     "text": [
      "An exception occurred\n",
      "dispersion residual =  1.154631948578509e-14\n",
      "dispersion residual =  4.654054919228656e-13\n",
      "dispersion residual =  7.061018437481583e-14\n",
      "dispersion residual =  4.4410233217192205e-16\n",
      "dispersion residual =  1.3323714228834027e-15\n",
      "dispersion residual =  8.881784197001254e-15\n",
      "dispersion residual =  3.446039167714941e-16\n",
      "dispersion residual =  7.793765632868599e-14\n",
      "dispersion residual =  3.3306690738754696e-16\n",
      "dispersion residual =  0.0\n",
      "dispersion residual =  1.1879387738560695e-14\n",
      "dispersion residual =  1.2884230636733011e-14\n",
      "dispersion residual =  4.440892098500626e-16\n",
      "dispersion residual =  2.220592796506728e-16\n",
      "dispersion residual =  4.884981392806571e-15\n",
      "dispersion residual =  1.1102232460349622e-14\n",
      "dispersion residual =  8.659741241155014e-14\n",
      "dispersion residual =  2.273301838941302e-12\n",
      "dispersion residual =  7.283065091789616e-13\n"
     ]
    },
    {
     "name": "stderr",
     "output_type": "stream",
     "text": [
      "/var/folders/tt/hgb4_vc13z77x5wpt5lzk5j40000gn/T/ipykernel_25561/3181228115.py:4: RuntimeWarning: invalid value encountered in scalar divide\n",
      "  return - (np.cos(theta_)**2) * (omega_pe_**2)/(omega**2) + omega_pe_**2 * (np.sin(theta_)**2)\n",
      "/opt/anaconda3/envs/rom/lib/python3.9/site-packages/scipy/optimize/_zeros_py.py:382: RuntimeWarning: invalid value encountered in scalar divide\n",
      "  p = (-q1 / q0 * p0 + p1) / (1 - q1 / q0)\n"
     ]
    },
    {
     "name": "stdout",
     "output_type": "stream",
     "text": [
      "An exception occurred\n",
      "dispersion residual =  1.1457501857291964e-13\n",
      "dispersion residual =  1.7280317351002787e-13\n",
      "dispersion residual =  7.105428125750176e-15\n",
      "dispersion residual =  2.222138244744273e-15\n",
      "dispersion residual =  4.440900334637114e-16\n",
      "dispersion residual =  1.3766781662488897e-14\n",
      "dispersion residual =  3.3306839297545515e-16\n",
      "dispersion residual =  2.2398281850191486e-16\n"
     ]
    },
    {
     "name": "stderr",
     "output_type": "stream",
     "text": [
      "/var/folders/tt/hgb4_vc13z77x5wpt5lzk5j40000gn/T/ipykernel_25561/3181228115.py:4: RuntimeWarning: invalid value encountered in scalar divide\n",
      "  return - (np.cos(theta_)**2) * (omega_pe_**2)/(omega**2) + omega_pe_**2 * (np.sin(theta_)**2)\n",
      "/opt/anaconda3/envs/rom/lib/python3.9/site-packages/scipy/optimize/_zeros_py.py:382: RuntimeWarning: invalid value encountered in scalar divide\n",
      "  p = (-q1 / q0 * p0 + p1) / (1 - q1 / q0)\n",
      "/Users/oissan/PycharmProjects/EMIC_secondary_instability/QLT_equations/general_plasma_equations.py:19: RuntimeWarning: invalid value encountered in scalar multiply\n",
      "  return 1j * np.sqrt(np.pi) * wofz(z)\n"
     ]
    },
    {
     "name": "stdout",
     "output_type": "stream",
     "text": [
      "dispersion residual =  9.999373785789435e-16\n",
      "dispersion residual =  8.88178568508683e-16\n",
      "dispersion residual =  2.7947758828500905e-15\n",
      "dispersion residual =  2.4431170287420894e-15\n",
      "dispersion residual =  8.92619311798628e-14\n",
      "dispersion residual =  6.883382833055453e-15\n",
      "dispersion residual =  2.220448279184655e-15\n",
      "dispersion residual =  1.0214425451476314e-14\n",
      "dispersion residual =  1.0785029317583763e-14\n",
      "dispersion residual =  1.5225307745174403e-12\n",
      "dispersion residual =  8.82924721494026e-13\n",
      "An exception occurred\n",
      "dispersion residual =  7.105430647598472e-15\n",
      "dispersion residual =  2.5757174372686902e-14\n",
      "dispersion residual =  1.3766765611025012e-14\n",
      "dispersion residual =  5.773300511952583e-15\n",
      "dispersion residual =  2.1820401914291085e-20\n",
      "dispersion residual =  8.88296833149689e-16\n",
      "dispersion residual =  1.1102230246251565e-16\n",
      "dispersion residual =  5.995204357250466e-15\n"
     ]
    },
    {
     "name": "stderr",
     "output_type": "stream",
     "text": [
      "/var/folders/tt/hgb4_vc13z77x5wpt5lzk5j40000gn/T/ipykernel_25561/3181228115.py:4: RuntimeWarning: invalid value encountered in scalar divide\n",
      "  return - (np.cos(theta_)**2) * (omega_pe_**2)/(omega**2) + omega_pe_**2 * (np.sin(theta_)**2)\n",
      "/opt/anaconda3/envs/rom/lib/python3.9/site-packages/scipy/optimize/_zeros_py.py:382: RuntimeWarning: invalid value encountered in scalar divide\n",
      "  p = (-q1 / q0 * p0 + p1) / (1 - q1 / q0)\n"
     ]
    },
    {
     "name": "stdout",
     "output_type": "stream",
     "text": [
      "dispersion residual =  3.3306690851380816e-16\n",
      "dispersion residual =  4.406890829194653e-22\n"
     ]
    },
    {
     "name": "stderr",
     "output_type": "stream",
     "text": [
      "/Users/oissan/PycharmProjects/EMIC_secondary_instability/QLT_equations/general_plasma_equations.py:19: RuntimeWarning: invalid value encountered in scalar multiply\n",
      "  return 1j * np.sqrt(np.pi) * wofz(z)\n",
      "/var/folders/tt/hgb4_vc13z77x5wpt5lzk5j40000gn/T/ipykernel_25561/3181228115.py:4: RuntimeWarning: invalid value encountered in scalar divide\n",
      "  return - (np.cos(theta_)**2) * (omega_pe_**2)/(omega**2) + omega_pe_**2 * (np.sin(theta_)**2)\n",
      "/opt/anaconda3/envs/rom/lib/python3.9/site-packages/scipy/optimize/_zeros_py.py:382: RuntimeWarning: invalid value encountered in scalar divide\n",
      "  p = (-q1 / q0 * p0 + p1) / (1 - q1 / q0)\n"
     ]
    },
    {
     "name": "stdout",
     "output_type": "stream",
     "text": [
      "dispersion residual =  2.109423812635134e-15\n",
      "dispersion residual =  8.881787529067112e-16\n",
      "dispersion residual =  2.664553535122158e-15\n",
      "dispersion residual =  2.2267880707914366e-16\n",
      "dispersion residual =  9.947598312965182e-14\n",
      "dispersion residual =  4.432010314303625e-13\n",
      "dispersion residual =  7.105526812632642e-15\n",
      "dispersion residual =  5.537792474118804e-13\n",
      "dispersion residual =  7.266178929335717e-13\n",
      "An exception occurred\n",
      "dispersion residual =  7.771561173387203e-14\n",
      "dispersion residual =  3.218344867404965e-14\n",
      "dispersion residual =  3.6548541970660153e-13\n",
      "dispersion residual =  1.9539925254601492e-14\n",
      "dispersion residual =  2.6645352782558816e-15\n",
      "dispersion residual =  2.3536728122392002e-14\n",
      "dispersion residual =  1.1104021076185394e-16\n",
      "dispersion residual =  5.8508879932321696e-18\n",
      "dispersion residual =  1.221245372085819e-15\n",
      "dispersion residual =  6.968396259251534e-21\n",
      "dispersion residual =  1.0003110364317034e-13\n",
      "dispersion residual =  2.2204460492533364e-16\n",
      "dispersion residual =  5.906386501521609e-14\n",
      "dispersion residual =  5.580678289310107e-15\n",
      "dispersion residual =  4.441490989610566e-16\n",
      "dispersion residual =  8.881789059039149e-16\n",
      "dispersion residual =  5.777986411039636e-15\n",
      "dispersion residual =  1.0851738868781415e-12\n",
      "dispersion residual =  1.8820892578945872e-12\n",
      "An exception occurred\n",
      "dispersion residual =  3.110970007535989e-15\n",
      "dispersion residual =  1.2435743183487232e-14\n",
      "dispersion residual =  8.881784239316054e-15\n",
      "dispersion residual =  8.88178422454128e-16\n",
      "dispersion residual =  1.77635721014957e-15\n",
      "dispersion residual =  7.10775891966486e-15\n",
      "dispersion residual =  1.7774670624248756e-13\n",
      "dispersion residual =  5.4523437866073016e-15\n",
      "dispersion residual =  5.563506411008485e-16\n",
      "dispersion residual =  2.2227921253429625e-16\n"
     ]
    },
    {
     "name": "stderr",
     "output_type": "stream",
     "text": [
      "/Users/oissan/PycharmProjects/EMIC_secondary_instability/QLT_equations/general_plasma_equations.py:19: RuntimeWarning: invalid value encountered in scalar multiply\n",
      "  return 1j * np.sqrt(np.pi) * wofz(z)\n"
     ]
    },
    {
     "name": "stdout",
     "output_type": "stream",
     "text": [
      "dispersion residual =  3.330670501713852e-16\n",
      "dispersion residual =  4.440893815843365e-16\n",
      "dispersion residual =  1.3322771268673613e-15\n",
      "dispersion residual =  1.110223246559592e-15\n",
      "dispersion residual =  3.108671479811466e-15\n",
      "dispersion residual =  1.33227820291087e-15\n",
      "dispersion residual =  7.993621465434965e-15\n",
      "dispersion residual =  7.27765787483345e-12\n",
      "dispersion residual =  7.847171279415341e-15\n",
      "An exception occurred\n",
      "An exception occurred\n",
      "An exception occurred\n",
      "An exception occurred\n",
      "An exception occurred\n",
      "An exception occurred\n",
      "An exception occurred\n",
      "An exception occurred\n",
      "An exception occurred\n",
      "An exception occurred\n",
      "An exception occurred\n",
      "An exception occurred\n",
      "An exception occurred\n",
      "An exception occurred\n",
      "An exception occurred\n",
      "An exception occurred\n",
      "An exception occurred\n",
      "An exception occurred\n",
      "An exception occurred\n",
      "An exception occurred\n",
      "An exception occurred\n",
      "An exception occurred\n",
      "An exception occurred\n",
      "An exception occurred\n",
      "An exception occurred\n",
      "An exception occurred\n",
      "An exception occurred\n",
      "An exception occurred\n",
      "An exception occurred\n",
      "An exception occurred\n",
      "An exception occurred\n",
      "An exception occurred\n",
      "An exception occurred\n",
      "An exception occurred\n",
      "An exception occurred\n",
      "An exception occurred\n",
      "An exception occurred\n",
      "An exception occurred\n"
     ]
    },
    {
     "name": "stderr",
     "output_type": "stream",
     "text": [
      "/var/folders/tt/hgb4_vc13z77x5wpt5lzk5j40000gn/T/ipykernel_25561/3181228115.py:4: RuntimeWarning: invalid value encountered in scalar divide\n",
      "  return - (np.cos(theta_)**2) * (omega_pe_**2)/(omega**2) + omega_pe_**2 * (np.sin(theta_)**2)\n",
      "/opt/anaconda3/envs/rom/lib/python3.9/site-packages/scipy/optimize/_zeros_py.py:382: RuntimeWarning: invalid value encountered in scalar divide\n",
      "  p = (-q1 / q0 * p0 + p1) / (1 - q1 / q0)\n"
     ]
    },
    {
     "name": "stdout",
     "output_type": "stream",
     "text": [
      "An exception occurred\n",
      "An exception occurred\n"
     ]
    },
    {
     "name": "stderr",
     "output_type": "stream",
     "text": [
      "/Users/oissan/PycharmProjects/EMIC_secondary_instability/QLT_equations/general_plasma_equations.py:19: RuntimeWarning: invalid value encountered in scalar multiply\n",
      "  return 1j * np.sqrt(np.pi) * wofz(z)\n"
     ]
    },
    {
     "name": "stdout",
     "output_type": "stream",
     "text": [
      "An exception occurred\n",
      "An exception occurred\n",
      "An exception occurred\n",
      "An exception occurred\n",
      "An exception occurred\n",
      "An exception occurred\n",
      "An exception occurred\n",
      "An exception occurred\n",
      "An exception occurred\n",
      "An exception occurred\n",
      "An exception occurred\n",
      "An exception occurred\n",
      "An exception occurred\n",
      "An exception occurred\n",
      "An exception occurred\n",
      "An exception occurred\n",
      "An exception occurred\n",
      "An exception occurred\n",
      "An exception occurred\n",
      "An exception occurred\n",
      "An exception occurred\n",
      "An exception occurred\n",
      "An exception occurred\n",
      "An exception occurred\n",
      "An exception occurred\n",
      "An exception occurred\n",
      "An exception occurred\n",
      "An exception occurred\n",
      "An exception occurred\n",
      "An exception occurred\n",
      "An exception occurred\n",
      "An exception occurred\n",
      "An exception occurred\n",
      "An exception occurred\n",
      "An exception occurred\n",
      "An exception occurred\n",
      "An exception occurred\n",
      "An exception occurred\n",
      "An exception occurred\n",
      "An exception occurred\n"
     ]
    },
    {
     "name": "stderr",
     "output_type": "stream",
     "text": [
      "/var/folders/tt/hgb4_vc13z77x5wpt5lzk5j40000gn/T/ipykernel_25561/3181228115.py:4: RuntimeWarning: invalid value encountered in scalar divide\n",
      "  return - (np.cos(theta_)**2) * (omega_pe_**2)/(omega**2) + omega_pe_**2 * (np.sin(theta_)**2)\n",
      "/opt/anaconda3/envs/rom/lib/python3.9/site-packages/scipy/optimize/_zeros_py.py:382: RuntimeWarning: invalid value encountered in scalar divide\n",
      "  p = (-q1 / q0 * p0 + p1) / (1 - q1 / q0)\n"
     ]
    },
    {
     "name": "stdout",
     "output_type": "stream",
     "text": [
      "An exception occurred\n",
      "An exception occurred\n",
      "An exception occurred\n",
      "An exception occurred\n",
      "An exception occurred\n",
      "An exception occurred\n",
      "An exception occurred\n",
      "An exception occurred\n",
      "An exception occurred\n",
      "An exception occurred\n",
      "An exception occurred\n",
      "An exception occurred\n",
      "An exception occurred\n",
      "An exception occurred\n",
      "An exception occurred\n",
      "An exception occurred\n",
      "An exception occurred\n",
      "An exception occurred\n",
      "An exception occurred\n",
      "An exception occurred\n",
      "An exception occurred\n",
      "An exception occurred\n",
      "An exception occurred\n",
      "An exception occurred\n",
      "An exception occurred\n",
      "An exception occurred\n",
      "An exception occurred\n",
      "An exception occurred\n",
      "An exception occurred\n",
      "An exception occurred\n",
      "An exception occurred\n",
      "An exception occurred\n",
      "An exception occurred\n",
      "An exception occurred\n",
      "An exception occurred\n",
      "An exception occurred\n",
      "An exception occurred\n"
     ]
    },
    {
     "name": "stderr",
     "output_type": "stream",
     "text": [
      "/Users/oissan/PycharmProjects/EMIC_secondary_instability/QLT_equations/general_plasma_equations.py:19: RuntimeWarning: invalid value encountered in scalar multiply\n",
      "  return 1j * np.sqrt(np.pi) * wofz(z)\n",
      "/opt/anaconda3/envs/rom/lib/python3.9/site-packages/scipy/optimize/_zeros_py.py:382: RuntimeWarning: invalid value encountered in scalar divide\n",
      "  p = (-q1 / q0 * p0 + p1) / (1 - q1 / q0)\n",
      "/var/folders/tt/hgb4_vc13z77x5wpt5lzk5j40000gn/T/ipykernel_25561/3181228115.py:4: RuntimeWarning: invalid value encountered in scalar divide\n",
      "  return - (np.cos(theta_)**2) * (omega_pe_**2)/(omega**2) + omega_pe_**2 * (np.sin(theta_)**2)\n"
     ]
    },
    {
     "name": "stdout",
     "output_type": "stream",
     "text": [
      "An exception occurred\n",
      "An exception occurred\n",
      "An exception occurred\n",
      "An exception occurred\n",
      "An exception occurred\n",
      "An exception occurred\n",
      "An exception occurred\n",
      "An exception occurred\n",
      "An exception occurred\n",
      "An exception occurred\n",
      "An exception occurred\n",
      "An exception occurred\n",
      "An exception occurred\n",
      "An exception occurred\n",
      "An exception occurred\n",
      "An exception occurred\n",
      "An exception occurred\n",
      "An exception occurred\n",
      "An exception occurred\n",
      "An exception occurred\n",
      "An exception occurred\n",
      "An exception occurred\n",
      "An exception occurred\n",
      "An exception occurred\n",
      "An exception occurred\n",
      "An exception occurred\n",
      "An exception occurred\n",
      "An exception occurred\n",
      "An exception occurred\n",
      "An exception occurred\n",
      "An exception occurred\n",
      "An exception occurred\n",
      "An exception occurred\n",
      "An exception occurred\n",
      "An exception occurred\n",
      "An exception occurred\n",
      "An exception occurred\n",
      "An exception occurred\n",
      "An exception occurred\n",
      "An exception occurred\n",
      "An exception occurred\n",
      "An exception occurred\n",
      "An exception occurred\n"
     ]
    },
    {
     "name": "stderr",
     "output_type": "stream",
     "text": [
      "/Users/oissan/PycharmProjects/EMIC_secondary_instability/QLT_equations/general_plasma_equations.py:19: RuntimeWarning: invalid value encountered in scalar multiply\n",
      "  return 1j * np.sqrt(np.pi) * wofz(z)\n",
      "/opt/anaconda3/envs/rom/lib/python3.9/site-packages/scipy/optimize/_zeros_py.py:382: RuntimeWarning: invalid value encountered in scalar divide\n",
      "  p = (-q1 / q0 * p0 + p1) / (1 - q1 / q0)\n",
      "/var/folders/tt/hgb4_vc13z77x5wpt5lzk5j40000gn/T/ipykernel_25561/3181228115.py:4: RuntimeWarning: invalid value encountered in scalar divide\n",
      "  return - (np.cos(theta_)**2) * (omega_pe_**2)/(omega**2) + omega_pe_**2 * (np.sin(theta_)**2)\n",
      "/var/folders/tt/hgb4_vc13z77x5wpt5lzk5j40000gn/T/ipykernel_25561/3181228115.py:4: RuntimeWarning: invalid value encountered in scalar divide\n",
      "  return - (np.cos(theta_)**2) * (omega_pe_**2)/(omega**2) + omega_pe_**2 * (np.sin(theta_)**2)\n",
      "/opt/anaconda3/envs/rom/lib/python3.9/site-packages/scipy/optimize/_zeros_py.py:382: RuntimeWarning: invalid value encountered in scalar divide\n",
      "  p = (-q1 / q0 * p0 + p1) / (1 - q1 / q0)\n",
      "/var/folders/tt/hgb4_vc13z77x5wpt5lzk5j40000gn/T/ipykernel_25561/3181228115.py:4: RuntimeWarning: invalid value encountered in scalar divide\n",
      "  return - (np.cos(theta_)**2) * (omega_pe_**2)/(omega**2) + omega_pe_**2 * (np.sin(theta_)**2)\n",
      "/opt/anaconda3/envs/rom/lib/python3.9/site-packages/scipy/optimize/_zeros_py.py:382: RuntimeWarning: invalid value encountered in scalar divide\n",
      "  p = (-q1 / q0 * p0 + p1) / (1 - q1 / q0)\n"
     ]
    }
   ],
   "source": [
    "for ii in range(len(k_ii)):\n",
    "    for jj in range(len(theta_ii)):\n",
    "        try:\n",
    "            sol_ii[ii, jj] = scipy.optimize.newton(disp_k_(k=k_ii[ii], theta=theta_ii[jj]), \n",
    "                                                 omega_guess + 0.005j, tol=1e-16, maxiter=10000, \n",
    "                                                   x1=omega_guess*2 + 1e-2j)\n",
    "            \n",
    "            error = abs(disp_k_(k=k_ii[ii], theta=theta_ii[jj])(sol_ii[ii, jj]))\n",
    "            print(\"dispersion residual = \", error)\n",
    "            if error > 1e-10:\n",
    "                sol_ii[ii, jj] = np.nan\n",
    "        except:\n",
    "            print(\"An exception occurred\")"
   ]
  },
  {
   "cell_type": "code",
   "execution_count": null,
   "id": "b8aefcd0-68c8-4fd8-a16b-cf128f1d4f58",
   "metadata": {},
   "outputs": [],
   "source": [
    "fig, ax = plt.subplots(figsize=(6, 3))\n",
    "pos = ax.pcolormesh(k_ii*rhoe, theta_ii*180/np.pi, sol_ii.real / wLH, vmin=0, vmax=2.5)\n",
    "cbar = fig.colorbar(pos)\n",
    "cbar.ax.set_ylabel(r'$\\frac{\\omega_{r}}{|\\Omega_{LH}|}$', labelpad=20, rotation=0, fontsize=20)\n",
    "ax.set_xlabel(r'$k\\rho_{e}$', fontsize=15)\n",
    "ax.set_ylabel(r'$\\theta$ [deg.]', fontsize=15)\n",
    "#ax.set_xticks([180, 200, 220, 240])\n",
    "#ax.set_xlim(175, 245)\n",
    "ax.spines['right'].set_visible(False)\n",
    "ax.spines['top'].set_visible(False)\n",
    "plt.grid(alpha=0.5)\n",
    "plt.tight_layout()"
   ]
  },
  {
   "cell_type": "code",
   "execution_count": 39,
   "id": "2f99eb70-82cf-4721-9073-9ec918f01ae3",
   "metadata": {},
   "outputs": [
    {
     "data": {
      "image/png": "[encoded data removed]",
      "text/plain": [
       "<Figure size 600x300 with 2 Axes>"
      ]
     },
     "metadata": {},
     "output_type": "display_data"
    }
   ],
   "source": [
    "fig, ax = plt.subplots(figsize=(6, 3))\n",
    "pos = ax.contourf(k_ii*rhoe, theta_ii*180/np.pi, sol_ii.imag / wLH, vmin=1E-5, vmax=0.5, \n",
    "                  levels=np.linspace(1e-5, 0.5, 25))\n",
    "\n",
    "cbar = fig.colorbar(pos)\n",
    "cbar.set_ticks([1e-5, 0.1, 0.2, 0.3, 0.4])\n",
    "cbar.set_ticklabels([\"$10^{-5}$\", \"0.1\", \"0.2\", \"0.3\", \"0.4\"])\n",
    "\n",
    "cbar.ax.set_ylabel(r'$\\frac{\\gamma}{|\\Omega_{LH}|}$', labelpad=20, rotation=0, fontsize=20)\n",
    "ax.set_xlabel(r'$|\\vec{k}|\\rho_{e}$', fontsize=15)\n",
    "ax.set_ylabel(r'$\\theta$ [deg.]', fontsize=15)\n",
    "\n",
    "\n",
    "ax.spines['right'].set_visible(False)\n",
    "ax.spines['top'].set_visible(False)\n",
    "plt.grid(alpha=0.5)\n",
    "plt.tight_layout()\n",
    "#plt.savefig(\"../../figs/vadim_2021/vadim_fig5_a.png\", dpi=300, bbox_inches='tight')"
   ]
  },
  {
   "cell_type": "code",
   "execution_count": 40,
   "id": "6d25c9b2-c141-40ab-b3ca-f46201c77bf1",
   "metadata": {},
   "outputs": [
    {
     "data": {
      "text/plain": [
       "Text(0.5, 1.0, '$\\\\theta = -\\\\pi/2$')"
      ]
     },
     "execution_count": 40,
     "metadata": {},
     "output_type": "execute_result"
    },
    {
     "data": {
      "image/png": "[encoded data removed]",
      "text/plain": [
       "<Figure size 600x300 with 2 Axes>"
      ]
     },
     "metadata": {},
     "output_type": "display_data"
    }
   ],
   "source": [
    "fig, ax = plt.subplots(nrows=2, figsize=(6, 3), sharex=True)\n",
    "ax[0].plot(k_ii*rhoe, sol_ii.imag[-1, :])\n",
    "ax[1].plot(k_ii*rhoe, sol_ii.real[-1, :])\n",
    "ax[0].set_title(r\"$\\theta = -\\pi/2$\")"
   ]
  },
  {
   "cell_type": "markdown",
   "id": "dd47c57d-cf03-4b00-b0b8-ee3f4dcb91b5",
   "metadata": {},
   "source": [
    "# MTSI "
   ]
  },
  {
   "cell_type": "markdown",
   "id": "2f9976f0-d34f-4204-8371-414b8b072aa5",
   "metadata": {},
   "source": [
    "\\begin{equation*}\n",
    "    k_{\\perp} = \\frac{\\omega_{\\mathrm{LH}} \\sqrt{c_{cp}}}{U_{x, Dp}} \\qquad \\mathrm{and} \\qquad \\omega_{r} = \\frac{1}{2^{\\frac{4}{3}}} \\left[\\frac{m_{p}}{m_{e}} \\sqrt{c_{cp}}\\cos^2(\\theta_{k})\\right]^{\\frac{1}{3}} \\omega_{\\mathrm{LH}}.\n",
    "\\end{equation*}"
   ]
  },
  {
   "cell_type": "code",
   "execution_count": 13,
   "id": "2fda0000-e3f3-4110-87ee-dc8c04cb129a",
   "metadata": {},
   "outputs": [
    {
     "name": "stdout",
     "output_type": "stream",
     "text": [
      "(0.11366869951251858-0.01022506441240654j)\n",
      "k_perp rho_{e} -0.880838832201648\n",
      "omega_k + i gamma =  (1.136686995125186-0.1022506441240654j)\n",
      "dispersion residual approx =  1.380694104652217e-15\n"
     ]
    }
   ],
   "source": [
    "# quick check\n",
    "k = wLH * np.sqrt(npC) / UDp   # d_e\n",
    "angle = 10\n",
    "theta = np.pi/2 + angle *np.pi/180\n",
    "\n",
    "\n",
    "omega_guess = 1/(2**(3/4)) * ((mp_me * np.sqrt(npC)*np.cos(theta)**2)**(1/3)) *wLH # Omega_ce\n",
    "\n",
    "sol_approx = scipy.optimize.newton(disp_k_(k=k, theta=theta), \n",
    "                                   omega_guess + 0.005j, tol=1e-16,\n",
    "                                   maxiter=1000,\n",
    "                                   x1=omega_guess * 1.2 + 1e-2j)\n",
    "print(sol_approx)\n",
    "print(\"k_perp rho_{e}\", k*np.sin(theta)*alpha_c_perp/np.sqrt(2))\n",
    "print(\"omega_k + i gamma = \", sol_approx * np.sqrt(mp_me))\n",
    "print(\"dispersion residual approx = \", abs(disp_k_(k=k, theta=theta)(sol_approx)) )"
   ]
  },
  {
   "cell_type": "code",
   "execution_count": 21,
   "id": "2dce42d1-a7e4-48ec-8812-08baa44110af",
   "metadata": {},
   "outputs": [],
   "source": [
    "k_mtsi = np.abs(np.linspace(0.02, 5, 30) * wLH * np.sqrt(npC) / UDp) # d_e\n",
    "theta_mtsi = np.pi/2 - np.linspace(0, 20, 10)*np.pi/180\n",
    "sol_mtsi = np.ones((len(k_mtsi), len(theta_mtsi)), dtype=\"complex128\") * np.nan"
   ]
  },
  {
   "cell_type": "code",
   "execution_count": 22,
   "id": "e7d5567c-35a0-48ae-88ba-7e69ed29420e",
   "metadata": {
    "scrolled": true
   },
   "outputs": [
    {
     "name": "stdout",
     "output_type": "stream",
     "text": [
      "dispersion residual =  4.874938415636936\n",
      "An exception occurred\n"
     ]
    },
    {
     "name": "stderr",
     "output_type": "stream",
     "text": [
      "/Users/oissan/PycharmProjects/EMIC_secondary_instability/QLT_equations/general_plasma_equations.py:19: RuntimeWarning: invalid value encountered in scalar multiply\n",
      "  return 1j * np.sqrt(np.pi) * wofz(z)\n",
      "/opt/anaconda3/envs/rom/lib/python3.9/site-packages/scipy/optimize/_zeros_py.py:382: RuntimeWarning: invalid value encountered in scalar divide\n",
      "  p = (-q1 / q0 * p0 + p1) / (1 - q1 / q0)\n",
      "/var/folders/tt/hgb4_vc13z77x5wpt5lzk5j40000gn/T/ipykernel_25299/3181228115.py:4: RuntimeWarning: invalid value encountered in scalar divide\n",
      "  return - (np.cos(theta_)**2) * (omega_pe_**2)/(omega**2) + omega_pe_**2 * (np.sin(theta_)**2)\n",
      "/var/folders/tt/hgb4_vc13z77x5wpt5lzk5j40000gn/T/ipykernel_25299/3181228115.py:4: RuntimeWarning: invalid value encountered in scalar divide\n",
      "  return - (np.cos(theta_)**2) * (omega_pe_**2)/(omega**2) + omega_pe_**2 * (np.sin(theta_)**2)\n",
      "/opt/anaconda3/envs/rom/lib/python3.9/site-packages/scipy/optimize/_zeros_py.py:382: RuntimeWarning: invalid value encountered in scalar divide\n",
      "  p = (-q1 / q0 * p0 + p1) / (1 - q1 / q0)\n"
     ]
    },
    {
     "name": "stdout",
     "output_type": "stream",
     "text": [
      "An exception occurred\n",
      "dispersion residual =  1.840743518095086e-15\n",
      "dispersion residual =  5.568469113035176e-16\n",
      "dispersion residual =  1.1254238522216531e-15\n",
      "dispersion residual =  1.5619812318275588e-15\n",
      "dispersion residual =  1.7786478833195628e-15\n",
      "dispersion residual =  1.331958589928774e-15\n",
      "dispersion residual =  1.114694559569123e-16\n",
      "An exception occurred\n",
      "An exception occurred\n"
     ]
    },
    {
     "name": "stderr",
     "output_type": "stream",
     "text": [
      "/Users/oissan/PycharmProjects/EMIC_secondary_instability/QLT_equations/general_plasma_equations.py:19: RuntimeWarning: invalid value encountered in scalar multiply\n",
      "  return 1j * np.sqrt(np.pi) * wofz(z)\n",
      "/opt/anaconda3/envs/rom/lib/python3.9/site-packages/scipy/optimize/_zeros_py.py:382: RuntimeWarning: invalid value encountered in scalar divide\n",
      "  p = (-q1 / q0 * p0 + p1) / (1 - q1 / q0)\n",
      "/var/folders/tt/hgb4_vc13z77x5wpt5lzk5j40000gn/T/ipykernel_25299/3181228115.py:4: RuntimeWarning: invalid value encountered in scalar divide\n",
      "  return - (np.cos(theta_)**2) * (omega_pe_**2)/(omega**2) + omega_pe_**2 * (np.sin(theta_)**2)\n"
     ]
    },
    {
     "name": "stdout",
     "output_type": "stream",
     "text": [
      "An exception occurred\n",
      "dispersion residual =  2.1124831510613762e-15\n",
      "dispersion residual =  3.0064814812012657e-16\n",
      "dispersion residual =  1.454638882676481e-15\n",
      "dispersion residual =  1.6666330439541794e-15\n",
      "dispersion residual =  3.443764206925887e-15\n",
      "dispersion residual =  2.1103456479804814e-15\n",
      "dispersion residual =  3.165101203371907e-15\n",
      "An exception occurred\n",
      "An exception occurred\n"
     ]
    },
    {
     "name": "stderr",
     "output_type": "stream",
     "text": [
      "/Users/oissan/PycharmProjects/EMIC_secondary_instability/QLT_equations/general_plasma_equations.py:19: RuntimeWarning: invalid value encountered in scalar multiply\n",
      "  return 1j * np.sqrt(np.pi) * wofz(z)\n",
      "/opt/anaconda3/envs/rom/lib/python3.9/site-packages/scipy/optimize/_zeros_py.py:382: RuntimeWarning: invalid value encountered in scalar divide\n",
      "  p = (-q1 / q0 * p0 + p1) / (1 - q1 / q0)\n",
      "/var/folders/tt/hgb4_vc13z77x5wpt5lzk5j40000gn/T/ipykernel_25299/3181228115.py:4: RuntimeWarning: invalid value encountered in scalar divide\n",
      "  return - (np.cos(theta_)**2) * (omega_pe_**2)/(omega**2) + omega_pe_**2 * (np.sin(theta_)**2)\n"
     ]
    },
    {
     "name": "stdout",
     "output_type": "stream",
     "text": [
      "An exception occurred\n",
      "dispersion residual =  1.1322097734007351e-15\n",
      "dispersion residual =  7.46052112072549e-16\n",
      "dispersion residual =  3.6361806878608475e-16\n",
      "dispersion residual =  2.1989640815351016e-16\n",
      "dispersion residual =  1.997904292524575e-15\n",
      "dispersion residual =  8.901368704725147e-16\n",
      "dispersion residual =  5.053274732257962e-16\n",
      "dispersion residual =  4.232638626463969\n",
      "An exception occurred\n",
      "An exception occurred\n",
      "dispersion residual =  5.797195660796456e-16\n",
      "dispersion residual =  4.441239029644353e-15\n",
      "dispersion residual =  2.986581270449538e-15\n",
      "dispersion residual =  4.655997890311777e-15\n",
      "dispersion residual =  2.884392095660308e-15\n",
      "dispersion residual =  2.055722238312234e-15\n",
      "dispersion residual =  2.3859084584223993e-15\n",
      "dispersion residual =  4.32731506550277\n"
     ]
    },
    {
     "name": "stderr",
     "output_type": "stream",
     "text": [
      "/Users/oissan/PycharmProjects/EMIC_secondary_instability/QLT_equations/general_plasma_equations.py:19: RuntimeWarning: invalid value encountered in scalar multiply\n",
      "  return 1j * np.sqrt(np.pi) * wofz(z)\n",
      "/opt/anaconda3/envs/rom/lib/python3.9/site-packages/scipy/optimize/_zeros_py.py:382: RuntimeWarning: invalid value encountered in scalar divide\n",
      "  p = (-q1 / q0 * p0 + p1) / (1 - q1 / q0)\n",
      "/var/folders/tt/hgb4_vc13z77x5wpt5lzk5j40000gn/T/ipykernel_25299/3181228115.py:4: RuntimeWarning: invalid value encountered in scalar divide\n",
      "  return - (np.cos(theta_)**2) * (omega_pe_**2)/(omega**2) + omega_pe_**2 * (np.sin(theta_)**2)\n",
      "/var/folders/tt/hgb4_vc13z77x5wpt5lzk5j40000gn/T/ipykernel_25299/3181228115.py:4: RuntimeWarning: invalid value encountered in scalar divide\n",
      "  return - (np.cos(theta_)**2) * (omega_pe_**2)/(omega**2) + omega_pe_**2 * (np.sin(theta_)**2)\n",
      "/opt/anaconda3/envs/rom/lib/python3.9/site-packages/scipy/optimize/_zeros_py.py:382: RuntimeWarning: invalid value encountered in scalar divide\n",
      "  p = (-q1 / q0 * p0 + p1) / (1 - q1 / q0)\n"
     ]
    },
    {
     "name": "stdout",
     "output_type": "stream",
     "text": [
      "An exception occurred\n",
      "dispersion residual =  1.842612791380831e-15\n",
      "dispersion residual =  1.366874039204073e-15\n",
      "dispersion residual =  1.547373340571312e-15\n",
      "dispersion residual =  1.716587549445839e-15\n",
      "dispersion residual =  2.6617871964925677e-15\n",
      "dispersion residual =  5.700726362501655e-16\n",
      "dispersion residual =  8.364005478440089e-16\n",
      "dispersion residual =  1.1640177912973675e-15\n",
      "An exception occurred\n",
      "An exception occurred\n",
      "dispersion residual =  2.5571124824752935e-15\n",
      "dispersion residual =  1.1352741365466003e-15\n",
      "dispersion residual =  1.52063132924451e-16\n",
      "dispersion residual =  2.5133742693021536e-16\n",
      "dispersion residual =  2.3448123176997943e-15\n",
      "dispersion residual =  2.5559253454202264e-15\n",
      "dispersion residual =  2.1792104205124493e-15\n",
      "dispersion residual =  1.8249424986651617e-15\n",
      "An exception occurred\n",
      "dispersion residual =  2.7185682300565785e-15\n",
      "dispersion residual =  6.681861550842465e-16\n",
      "dispersion residual =  5.898391845890826e-16\n",
      "dispersion residual =  9.233196069039054e-16\n",
      "dispersion residual =  4.544978010655165e-15\n",
      "dispersion residual =  1.962615573354719e-16\n",
      "dispersion residual =  5.855045090355223e-16\n",
      "dispersion residual =  1.2412670766236366e-15\n",
      "dispersion residual =  1.9290624247403237e-15\n",
      "An exception occurred\n",
      "dispersion residual =  1.5782820065198546e-15\n",
      "dispersion residual =  3.8119143768014164e-16\n",
      "dispersion residual =  2.440816807949947e-15\n",
      "dispersion residual =  1.1201823270746996e-15\n",
      "dispersion residual =  6.701107647148734e-16\n",
      "dispersion residual =  3.213256218229986e-15\n",
      "dispersion residual =  5.857758176484856e-15\n",
      "dispersion residual =  1.1443916996305594e-16\n",
      "dispersion residual =  4.5829700189401066e-15\n",
      "An exception occurred\n",
      "dispersion residual =  2.42849379481713e-16\n",
      "dispersion residual =  6.683529451791491e-16\n",
      "dispersion residual =  8.877442095905534e-16\n",
      "dispersion residual =  2.514135153503347e-17\n",
      "dispersion residual =  3.3484932491205363e-16\n",
      "dispersion residual =  2.0505975923396745e-15\n",
      "dispersion residual =  1.838810156796627e-15\n",
      "dispersion residual =  7.737100070208234e-16\n",
      "dispersion residual =  1.4374735605683554e-15\n",
      "An exception occurred\n",
      "dispersion residual =  1.9864621575299763e-15\n",
      "dispersion residual =  3.3375137820493654e-15\n",
      "dispersion residual =  8.887346536310718e-16\n",
      "dispersion residual =  3.3716863377754886e-16\n",
      "dispersion residual =  1.0869906190517484e-17\n",
      "dispersion residual =  9.45451399856279e-16\n",
      "dispersion residual =  2.811114838007554e-16\n",
      "dispersion residual =  7.286434775063706e-16\n",
      "dispersion residual =  9.4623719602731e-16\n",
      "An exception occurred\n",
      "dispersion residual =  7.301308358595213e-16\n",
      "dispersion residual =  1.117285464819381e-16\n",
      "dispersion residual =  4.891709256470669e-15\n",
      "dispersion residual =  7.776596211062248e-16\n",
      "dispersion residual =  1.442437231562225e-15\n",
      "dispersion residual =  5.718517582389702e-15\n",
      "dispersion residual =  3.6099908391428024e-15\n",
      "dispersion residual =  1.3895135307354794e-15\n",
      "dispersion residual =  1.4779860983039436e-15\n",
      "An exception occurred\n",
      "dispersion residual =  5.769723560867521\n",
      "dispersion residual =  7.824892551819526e-16\n",
      "dispersion residual =  3.4435313776795715e-15\n",
      "dispersion residual =  3.334135642974882e-15\n",
      "dispersion residual =  2.771921980760491e-16\n",
      "dispersion residual =  3.877194271909623e-16\n",
      "dispersion residual =  5.63785166725695e-17\n",
      "dispersion residual =  2.2499364907174176e-15\n",
      "dispersion residual =  1.6364626972356165e-15\n",
      "An exception occurred\n",
      "dispersion residual =  5.563998038281758\n",
      "dispersion residual =  9.142093955970123e-16\n",
      "dispersion residual =  3.55541338988564e-15\n",
      "dispersion residual =  1.2225929613092212e-15\n",
      "dispersion residual =  6.111477775104167e-16\n",
      "dispersion residual =  3.830704060362543e-15\n",
      "dispersion residual =  1.1648830099468542e-15\n",
      "dispersion residual =  1.0242685204270969e-14\n",
      "dispersion residual =  1.857972956961166e-15\n",
      "An exception occurred\n"
     ]
    },
    {
     "name": "stderr",
     "output_type": "stream",
     "text": [
      "/Users/oissan/PycharmProjects/EMIC_secondary_instability/QLT_equations/general_plasma_equations.py:19: RuntimeWarning: invalid value encountered in scalar multiply\n",
      "  return 1j * np.sqrt(np.pi) * wofz(z)\n",
      "/opt/anaconda3/envs/rom/lib/python3.9/site-packages/scipy/optimize/_zeros_py.py:382: RuntimeWarning: invalid value encountered in scalar divide\n",
      "  p = (-q1 / q0 * p0 + p1) / (1 - q1 / q0)\n",
      "/var/folders/tt/hgb4_vc13z77x5wpt5lzk5j40000gn/T/ipykernel_25299/3181228115.py:4: RuntimeWarning: invalid value encountered in scalar divide\n",
      "  return - (np.cos(theta_)**2) * (omega_pe_**2)/(omega**2) + omega_pe_**2 * (np.sin(theta_)**2)\n"
     ]
    },
    {
     "name": "stdout",
     "output_type": "stream",
     "text": [
      "An exception occurred\n",
      "dispersion residual =  1.4447612355003532e-15\n",
      "dispersion residual =  4.459335254459089e-16\n",
      "dispersion residual =  8.324976098482353e-16\n",
      "dispersion residual =  3.719683667550952e-15\n",
      "dispersion residual =  3.719680960689442e-15\n",
      "dispersion residual =  5.1352151926171675e-15\n",
      "dispersion residual =  2.9152067996295447e-15\n",
      "dispersion residual =  5.079047835754771e-15\n",
      "An exception occurred\n",
      "An exception occurred\n",
      "dispersion residual =  1.1141949605793321e-15\n",
      "dispersion residual =  1.2214981687019347e-15\n",
      "dispersion residual =  2.9423660108769527e-15\n",
      "dispersion residual =  1.942673509750731e-15\n",
      "dispersion residual =  2.053695804930639e-15\n",
      "dispersion residual =  1.8082061850132526e-15\n",
      "dispersion residual =  9.163677743958053e-16\n",
      "dispersion residual =  9.548744878254046e-16\n",
      "An exception occurred\n",
      "An exception occurred\n",
      "dispersion residual =  2.3327927402631937e-15\n",
      "dispersion residual =  4.443955303090104e-16\n",
      "dispersion residual =  2.2761782371422375e-15\n",
      "dispersion residual =  1.165951638446386e-15\n",
      "dispersion residual =  1.1659510787322715e-15\n"
     ]
    },
    {
     "name": "stderr",
     "output_type": "stream",
     "text": [
      "/var/folders/tt/hgb4_vc13z77x5wpt5lzk5j40000gn/T/ipykernel_25299/3181228115.py:4: RuntimeWarning: invalid value encountered in scalar divide\n",
      "  return - (np.cos(theta_)**2) * (omega_pe_**2)/(omega**2) + omega_pe_**2 * (np.sin(theta_)**2)\n",
      "/opt/anaconda3/envs/rom/lib/python3.9/site-packages/scipy/optimize/_zeros_py.py:382: RuntimeWarning: invalid value encountered in scalar divide\n",
      "  p = (-q1 / q0 * p0 + p1) / (1 - q1 / q0)\n",
      "/Users/oissan/PycharmProjects/EMIC_secondary_instability/QLT_equations/general_plasma_equations.py:19: RuntimeWarning: invalid value encountered in scalar multiply\n",
      "  return 1j * np.sqrt(np.pi) * wofz(z)\n"
     ]
    },
    {
     "name": "stdout",
     "output_type": "stream",
     "text": [
      "dispersion residual =  1.6465289610953045e-15\n",
      "dispersion residual =  1.5292891119823434e-14\n",
      "dispersion residual =  1.551059568313688e-15\n",
      "An exception occurred\n",
      "dispersion residual =  5.064276182477785\n",
      "dispersion residual =  4.9962981405284215e-15\n",
      "dispersion residual =  7.216521303162943e-16\n",
      "dispersion residual =  2.164826556242986e-15\n",
      "dispersion residual =  1.3879960873780778e-15\n",
      "dispersion residual =  6.941062309338974e-16\n",
      "dispersion residual =  1.573720440160498e-14\n",
      "dispersion residual =  7.46646709096169e-15\n",
      "dispersion residual =  1.6965156518883017e-15\n",
      "An exception occurred\n",
      "An exception occurred\n",
      "dispersion residual =  4.552115731238178e-15\n",
      "dispersion residual =  4.994933972316501e-16\n",
      "dispersion residual =  3.387162613018718e-15\n",
      "dispersion residual =  5.008080840902626e-16\n",
      "dispersion residual =  4.720616731108978e-16\n",
      "dispersion residual =  2.0262755423823314e-16\n",
      "dispersion residual =  1.940722252178023e-16\n",
      "dispersion residual =  7.135920383613126e-15\n",
      "An exception occurred\n",
      "dispersion residual =  7.215061239753818e-15\n",
      "dispersion residual =  1.4987066930397379e-15\n",
      "dispersion residual =  2.941983362017253e-15\n",
      "dispersion residual =  1.6642538008248055e-16\n",
      "dispersion residual =  4.357740651622224e-15\n",
      "dispersion residual =  1.4154259364219138e-15\n",
      "dispersion residual =  2.1185994628755522e-16\n",
      "dispersion residual =  2.5814853726879865e-15\n",
      "dispersion residual =  8.169688092178423e-15\n",
      "An exception occurred\n",
      "dispersion residual =  1.7738060749552523e-15\n",
      "dispersion residual =  6.108062412148515e-16\n",
      "dispersion residual =  2.7748957758568664e-16\n",
      "dispersion residual =  1.9441031342604484e-15\n",
      "dispersion residual =  6.9112467490035395e-15\n",
      "dispersion residual =  3.746894288006404e-15\n",
      "dispersion residual =  4.190985672523986e-15\n",
      "dispersion residual =  5.190075982011039e-15\n",
      "dispersion residual =  5.1228750486582386e-15\n",
      "An exception occurred\n",
      "dispersion residual =  1.1674387745449802e-15\n",
      "dispersion residual =  5.495659174846984e-15\n",
      "dispersion residual =  8.327769306733203e-16\n",
      "dispersion residual =  4.9681396160860946e-15\n",
      "dispersion residual =  3.080800411624447e-15\n",
      "dispersion residual =  6.939978106136968e-16\n",
      "dispersion residual =  8.593495743509437e-15\n",
      "dispersion residual =  1.3405834724701188e-14\n",
      "dispersion residual =  3.9830648018485634e-15\n",
      "An exception occurred\n",
      "dispersion residual =  9.049086241594774e-16\n",
      "dispersion residual =  6.494859432562573e-15\n",
      "dispersion residual =  2.053966878494333e-15\n",
      "dispersion residual =  1.693874977574536e-15\n",
      "dispersion residual =  1.1185388552888986e-14\n",
      "dispersion residual =  1.3683607446159447e-14\n",
      "dispersion residual =  5.272949896002936e-16\n",
      "dispersion residual =  7.495974687997001e-16\n",
      "dispersion residual =  1.955730345451346e-15\n",
      "An exception occurred\n",
      "dispersion residual =  4.280864923352832e-15\n",
      "dispersion residual =  4.163282350756677e-15\n",
      "dispersion residual =  1.8318372303391947e-15\n",
      "dispersion residual =  6.939436011258388e-16\n",
      "dispersion residual =  3.6093136095736927e-16\n",
      "dispersion residual =  1.6374709475970076e-15\n",
      "dispersion residual =  1.1431413457988686e-15\n",
      "dispersion residual =  6.53634152793308e-15\n",
      "dispersion residual =  1.283734155401559e-16\n",
      "An exception occurred\n",
      "An exception occurred\n",
      "dispersion residual =  4.718393660496317e-15\n",
      "dispersion residual =  4.719020213250726e-16\n"
     ]
    },
    {
     "name": "stderr",
     "output_type": "stream",
     "text": [
      "/Users/oissan/PycharmProjects/EMIC_secondary_instability/QLT_equations/general_plasma_equations.py:19: RuntimeWarning: invalid value encountered in scalar multiply\n",
      "  return 1j * np.sqrt(np.pi) * wofz(z)\n",
      "/opt/anaconda3/envs/rom/lib/python3.9/site-packages/scipy/optimize/_zeros_py.py:382: RuntimeWarning: invalid value encountered in scalar divide\n",
      "  p = (-q1 / q0 * p0 + p1) / (1 - q1 / q0)\n",
      "/var/folders/tt/hgb4_vc13z77x5wpt5lzk5j40000gn/T/ipykernel_25299/3181228115.py:4: RuntimeWarning: invalid value encountered in scalar divide\n",
      "  return - (np.cos(theta_)**2) * (omega_pe_**2)/(omega**2) + omega_pe_**2 * (np.sin(theta_)**2)\n"
     ]
    },
    {
     "name": "stdout",
     "output_type": "stream",
     "text": [
      "dispersion residual =  5.190238430203466e-15\n",
      "dispersion residual =  6.38324444780493e-16\n",
      "dispersion residual =  1.2739700787750438e-14\n",
      "dispersion residual =  6.74652425644682e-15\n",
      "dispersion residual =  1.7623706314014494e-15\n",
      "dispersion residual =  1.429765703631214e-15\n",
      "An exception occurred\n",
      "dispersion residual =  4.820072676647928\n",
      "dispersion residual =  5.495658184660069e-15\n",
      "dispersion residual =  1.970648080977533e-15\n",
      "dispersion residual =  8.965085494114638e-15\n",
      "dispersion residual =  1.0270107380920154e-15\n",
      "dispersion residual =  1.1074420461759227e-14\n",
      "dispersion residual =  1.9517214728237162e-16\n",
      "dispersion residual =  9.117815322538347e-15\n",
      "dispersion residual =  5.434528291939314e-15\n",
      "An exception occurred"
     ]
    },
    {
     "name": "stderr",
     "output_type": "stream",
     "text": [
      "/var/folders/tt/hgb4_vc13z77x5wpt5lzk5j40000gn/T/ipykernel_25299/3181228115.py:4: RuntimeWarning: overflow encountered in scalar power\n",
      "  return - (np.cos(theta_)**2) * (omega_pe_**2)/(omega**2) + omega_pe_**2 * (np.sin(theta_)**2)\n",
      "/var/folders/tt/hgb4_vc13z77x5wpt5lzk5j40000gn/T/ipykernel_25299/3181228115.py:4: RuntimeWarning: invalid value encountered in scalar power\n",
      "  return - (np.cos(theta_)**2) * (omega_pe_**2)/(omega**2) + omega_pe_**2 * (np.sin(theta_)**2)\n",
      "/Users/oissan/PycharmProjects/EMIC_secondary_instability/QLT_equations/general_plasma_equations.py:19: RuntimeWarning: invalid value encountered in scalar multiply\n",
      "  return 1j * np.sqrt(np.pi) * wofz(z)\n",
      "/opt/anaconda3/envs/rom/lib/python3.9/site-packages/scipy/optimize/_zeros_py.py:382: RuntimeWarning: invalid value encountered in scalar divide\n",
      "  p = (-q1 / q0 * p0 + p1) / (1 - q1 / q0)\n",
      "/var/folders/tt/hgb4_vc13z77x5wpt5lzk5j40000gn/T/ipykernel_25299/3181228115.py:4: RuntimeWarning: invalid value encountered in scalar divide\n",
      "  return - (np.cos(theta_)**2) * (omega_pe_**2)/(omega**2) + omega_pe_**2 * (np.sin(theta_)**2)\n"
     ]
    },
    {
     "name": "stdout",
     "output_type": "stream",
     "text": [
      "\n",
      "dispersion residual =  4.938359010973306\n",
      "dispersion residual =  1.47109972104482e-15\n",
      "dispersion residual =  1.3683554473307901e-14\n",
      "dispersion residual =  3.0525712186694384e-16\n",
      "dispersion residual =  1.1574129241934665e-14\n",
      "dispersion residual =  9.29806363397187e-15\n",
      "dispersion residual =  6.869586662552526e-15\n",
      "dispersion residual =  3.011641876810546e-15\n",
      "dispersion residual =  4.5659099959763235e-15\n",
      "An exception occurred\n",
      "An exception occurred\n",
      "dispersion residual =  1.5265024490592424e-15\n",
      "dispersion residual =  3.302859290081958e-15\n",
      "dispersion residual =  6.468050160453655e-15\n",
      "dispersion residual =  4.468702029297204e-15\n",
      "dispersion residual =  1.1074420460805461e-14\n",
      "dispersion residual =  6.2060506557847484e-15\n",
      "dispersion residual =  4.580219161921289e-16\n",
      "dispersion residual =  3.1818423482564936e-15\n",
      "An exception occurred\n",
      "An exception occurred\n",
      "dispersion residual =  1.8595964661515653e-15\n",
      "dispersion residual =  1.304457994444094e-15\n",
      "dispersion residual =  2.5818133252745885e-15\n",
      "dispersion residual =  2.8587730182582053e-15\n",
      "dispersion residual =  3.871848607102934e-15\n",
      "dispersion residual =  2.7348605340420846e-15\n",
      "dispersion residual =  3.677669748804938e-15\n",
      "dispersion residual =  1.2209952817962694e-15\n",
      "An exception occurred\n",
      "An exception occurred\n",
      "dispersion residual =  2.6923179398011533e-15\n",
      "dispersion residual =  2.081647862582668e-15\n",
      "dispersion residual =  5.689985107816751e-15\n",
      "dispersion residual =  1.3683552988613745e-14\n",
      "dispersion residual =  7.63224119484972e-16\n",
      "dispersion residual =  4.445715928391512e-16\n",
      "dispersion residual =  5.690440924505139e-16\n",
      "dispersion residual =  1.962421823830913e-15\n",
      "An exception occurred\n",
      "An exception occurred\n",
      "dispersion residual =  1.4155072513585884e-15\n",
      "dispersion residual =  1.970675113030097e-15\n",
      "dispersion residual =  6.522537266365771e-15\n",
      "dispersion residual =  9.672872312161509e-15\n",
      "dispersion residual =  1.790288931375635e-15\n",
      "dispersion residual =  4.12719466586743e-15\n",
      "dispersion residual =  2.359766029012397e-16\n",
      "dispersion residual =  3.676020790150652e-15\n"
     ]
    }
   ],
   "source": [
    "for ii in range(len(k_mtsi)):\n",
    "    for jj in range(len(theta_mtsi)):\n",
    "        try:\n",
    "            sol_mtsi[ii, jj] = scipy.optimize.newton(disp_k_(k=k_mtsi[ii], theta=theta_mtsi[jj]),  \n",
    "                                                     omega_guess + 0.005j, \n",
    "                                                 tol=1e-16, maxiter=1000, x1=omega_guess*1.2 + 1e-2j)\n",
    "            \n",
    "            error = abs(disp_k_(k=k_mtsi[ii], theta=theta_mtsi[jj])(sol_mtsi[ii, jj]))\n",
    "            print(\"dispersion residual = \", error)\n",
    "            if error > 1e-8:\n",
    "                sol_mtsi[ii, jj] = np.nan\n",
    "        except:\n",
    "            print(\"An exception occurred\")"
   ]
  },
  {
   "cell_type": "code",
   "execution_count": 23,
   "id": "cecab090-a5ca-4777-b3be-5632677885df",
   "metadata": {},
   "outputs": [
    {
     "data": {
      "image/png": "[encoded data removed]",
      "text/plain": [
       "<Figure size 600x300 with 2 Axes>"
      ]
     },
     "metadata": {},
     "output_type": "display_data"
    }
   ],
   "source": [
    "fig, ax = plt.subplots(figsize=(6, 3))\n",
    "pos = ax.contourf(k_mtsi*rhoe, theta_mtsi*180/np.pi, sol_mtsi.real.T /wLH, \n",
    "                  vmin=1e-5, vmax=2, levels=np.linspace(1e-2, 2, 15))\n",
    "cbar = fig.colorbar(pos)\n",
    "cbar.ax.set_ylabel(r'$\\frac{\\omega_{r}}{|\\Omega_{LH}|}$', labelpad=20, rotation=0, fontsize=20)\n",
    "ax.set_xlabel(r'$k \\rho_{e}$', fontsize=15)\n",
    "ax.set_ylabel(r'$\\theta$ [deg.]', fontsize=15)\n",
    "cbar.set_ticks([0.1, 0.5, 0.9, 1.3,  1.7])\n",
    "\n",
    "#ax.set_xticks([180, 200, 220, 240])\n",
    "#ax.set_xlim(175, 245)\n",
    "ax.spines['right'].set_visible(False)\n",
    "ax.spines['top'].set_visible(False)\n",
    "plt.grid(alpha=0.5)\n",
    "plt.tight_layout()\n",
    "# plt.savefig(\"figures/linear_theory/MTSI/omega_r_VD_\" + str(round(UDp/alpha_p_par, 1)) + \"_mpme_\" + str(round(mp_me))+ \".png\", dpi=300, bbox_inches='tight')"
   ]
  },
  {
   "cell_type": "code",
   "execution_count": 24,
   "id": "cda7bd6f-2088-4672-831c-319b225022f7",
   "metadata": {},
   "outputs": [
    {
     "data": {
      "image/png": "[encoded data removed]",
      "text/plain": [
       "<Figure size 600x300 with 2 Axes>"
      ]
     },
     "metadata": {},
     "output_type": "display_data"
    }
   ],
   "source": [
    "fig, ax = plt.subplots(figsize=(6, 3))\n",
    "\n",
    "pos_mtsi = ax.contourf(k_mtsi*rhoe, theta_mtsi*180/np.pi,\n",
    "                sol_mtsi.imag.T * np.sqrt(mp_me), vmin=1E-5, vmax=0.4, levels=np.linspace(1e-5, 0.4, 15))\n",
    "\n",
    "cbar = fig.colorbar(pos_mtsi)\n",
    "cbar.ax.set_ylabel(r'$\\frac{\\gamma}{|\\Omega_{LH}|}$', labelpad=20, rotation=0, fontsize=20)\n",
    "ax.set_xlabel(r'$|\\vec{k}| \\rho_{e}$', fontsize=15)\n",
    "ax.set_ylabel(r'$\\theta$ [deg.]', fontsize=15)\n",
    "cbar.set_ticks([1e-5, 0.1, 0.2])\n",
    "cbar.set_ticklabels([\"$10^{-5}$\", \"0.1\", \"0.2\"])\n",
    "\n",
    "ax.spines['right'].set_visible(False)\n",
    "ax.spines['top'].set_visible(False)\n",
    "plt.grid(alpha=0.5)\n",
    "plt.tight_layout()\n",
    "\n",
    "# plt.savefig(\"figures/linear_theory/MTSI/gamma_VD_\" + str(round(UDp/alpha_p_par, 1))  + \"_mpme_\" + str(round(mp_me))+ \".png\", dpi=300, bbox_inches='tight')"
   ]
  },
  {
   "cell_type": "markdown",
   "id": "6050406d-fe87-46ff-8ca6-d21d4954c878",
   "metadata": {},
   "source": [
    "# Plot both instabilities "
   ]
  },
  {
   "cell_type": "code",
   "execution_count": 42,
   "id": "014b68dc-53f4-4399-9290-de514a9b78c0",
   "metadata": {},
   "outputs": [
    {
     "ename": "NameError",
     "evalue": "name 'k_perp_mtsi' is not defined",
     "output_type": "error",
     "traceback": [
      "\u001B[0;31m---------------------------------------------------------------------------\u001B[0m",
      "\u001B[0;31mNameError\u001B[0m                                 Traceback (most recent call last)",
      "Cell \u001B[0;32mIn[42], line 7\u001B[0m\n\u001B[1;32m      1\u001B[0m fig, ax \u001B[38;5;241m=\u001B[39m plt\u001B[38;5;241m.\u001B[39msubplots(figsize\u001B[38;5;241m=\u001B[39m(\u001B[38;5;241m6\u001B[39m, \u001B[38;5;241m3\u001B[39m))\n\u001B[1;32m      4\u001B[0m \u001B[38;5;66;03m# pos_ii = ax.contourf(k_perp_ii*rhoe, k_par_ii*rhoe, sol_ii.imag.T / wLH,\u001B[39;00m\n\u001B[1;32m      5\u001B[0m \u001B[38;5;66;03m#                   vmin=1E-5,  vmax=0.4, levels=np.linspace(1e-5, 0.4, 15))\u001B[39;00m\n\u001B[0;32m----> 7\u001B[0m pos_mtsi \u001B[38;5;241m=\u001B[39m ax\u001B[38;5;241m.\u001B[39mcontourf(\u001B[43mk_perp_mtsi\u001B[49m\u001B[38;5;241m*\u001B[39malpha_c_perp\u001B[38;5;241m/\u001B[39mnp\u001B[38;5;241m.\u001B[39msqrt(\u001B[38;5;241m2\u001B[39m), k_par_mtsi\u001B[38;5;241m*\u001B[39malpha_c_perp\u001B[38;5;241m/\u001B[39mnp\u001B[38;5;241m.\u001B[39msqrt(\u001B[38;5;241m2\u001B[39m),\n\u001B[1;32m      8\u001B[0m                 sol_mtsi\u001B[38;5;241m.\u001B[39mimag\u001B[38;5;241m.\u001B[39mT \u001B[38;5;241m*\u001B[39m np\u001B[38;5;241m.\u001B[39msqrt(mp_me), vmin\u001B[38;5;241m=\u001B[39m\u001B[38;5;241m1E-5\u001B[39m, vmax\u001B[38;5;241m=\u001B[39m\u001B[38;5;241m0.4\u001B[39m, levels\u001B[38;5;241m=\u001B[39mnp\u001B[38;5;241m.\u001B[39mlinspace(\u001B[38;5;241m1e-5\u001B[39m, \u001B[38;5;241m0.4\u001B[39m, \u001B[38;5;241m15\u001B[39m))\n\u001B[1;32m     10\u001B[0m cbar \u001B[38;5;241m=\u001B[39m fig\u001B[38;5;241m.\u001B[39mcolorbar(pos_mtsi)\n\u001B[1;32m     11\u001B[0m cbar\u001B[38;5;241m.\u001B[39max\u001B[38;5;241m.\u001B[39mset_ylabel(\u001B[38;5;124mr\u001B[39m\u001B[38;5;124m'\u001B[39m\u001B[38;5;124m$\u001B[39m\u001B[38;5;124m\\\u001B[39m\u001B[38;5;124mfrac\u001B[39m\u001B[38;5;124m{\u001B[39m\u001B[38;5;124m\\\u001B[39m\u001B[38;5;124mgamma}\u001B[39m\u001B[38;5;124m{\u001B[39m\u001B[38;5;124m|\u001B[39m\u001B[38;5;124m\\\u001B[39m\u001B[38;5;124mOmega_\u001B[39m\u001B[38;5;132;01m{LH}\u001B[39;00m\u001B[38;5;124m|}$\u001B[39m\u001B[38;5;124m'\u001B[39m, labelpad\u001B[38;5;241m=\u001B[39m\u001B[38;5;241m20\u001B[39m, rotation\u001B[38;5;241m=\u001B[39m\u001B[38;5;241m0\u001B[39m, fontsize\u001B[38;5;241m=\u001B[39m\u001B[38;5;241m20\u001B[39m)\n",
      "\u001B[0;31mNameError\u001B[0m: name 'k_perp_mtsi' is not defined"
     ]
    },
    {
     "data": {
      "image/png": "[encoded data removed]",
      "text/plain": [
       "<Figure size 600x300 with 1 Axes>"
      ]
     },
     "metadata": {},
     "output_type": "display_data"
    }
   ],
   "source": [
    "fig, ax = plt.subplots(figsize=(6, 3))\n",
    "\n",
    "\n",
    "# pos_ii = ax.contourf(k_perp_ii*rhoe, k_par_ii*rhoe, sol_ii.imag.T / wLH,\n",
    "#                   vmin=1E-5,  vmax=0.4, levels=np.linspace(1e-5, 0.4, 15))\n",
    "\n",
    "pos_mtsi = ax.contourf(k_perp_mtsi*alpha_c_perp/np.sqrt(2), k_par_mtsi*alpha_c_perp/np.sqrt(2),\n",
    "                sol_mtsi.imag.T * np.sqrt(mp_me), vmin=1E-5, vmax=0.4, levels=np.linspace(1e-5, 0.4, 15))\n",
    "\n",
    "cbar = fig.colorbar(pos_mtsi)\n",
    "cbar.ax.set_ylabel(r'$\\frac{\\gamma}{|\\Omega_{LH}|}$', labelpad=20, rotation=0, fontsize=20)\n",
    "ax.set_ylabel(r'$k_{\\|}\\rho_{e}$', fontsize=15)\n",
    "ax.set_xlabel(r'$k_{\\perp}\\rho_{e}$', fontsize=15)\n",
    "cbar.set_ticks([1e-5, 0.1, 0.2])\n",
    "cbar.set_ticklabels([\"$10^{-5}$\", \"0.1\", \"0.2\"])\n",
    "\n",
    "ax.spines['right'].set_visible(False)\n",
    "ax.spines['top'].set_visible(False)\n",
    "plt.grid(alpha=0.5)\n",
    "plt.tight_layout()\n"
   ]
  },
  {
   "cell_type": "code",
   "execution_count": null,
   "id": "2413a13a-62c2-40bc-9abb-10c5fec051b1",
   "metadata": {},
   "outputs": [],
   "source": []
  }
 ],
 "metadata": {
  "kernelspec": {
   "display_name": "Python 3 (ipykernel)",
   "language": "python",
   "name": "python3"
  },
  "language_info": {
   "codemirror_mode": {
    "name": "ipython",
    "version": 3
   },
   "file_extension": ".py",
   "mimetype": "text/x-python",
   "name": "python",
   "nbconvert_exporter": "python",
   "pygments_lexer": "ipython3",
   "version": "3.9.19"
  }
 },
 "nbformat": 4,
 "nbformat_minor": 5
}