{
 "cells": [
  {
   "cell_type": "markdown",
   "id": "59043ae3-97f7-42f5-b32e-b4d58389b478",
   "metadata": {},
   "source": [
    "Aug 1st, 2025\n",
    "\n",
    "\n",
    "Author: Opal Issan (oissan@ucsd.edu)"
   ]
  },
  {
   "cell_type": "code",
   "execution_count": 3,
   "id": "ca84c6b5-53fe-4ac0-b2d6-008d9e1e0307",
   "metadata": {},
   "outputs": [],
   "source": [
    "import sys, os\n",
    "sys.path.append(os.path.abspath(os.path.join('..')))"
   ]
  },
  {
   "cell_type": "code",
   "execution_count": 4,
   "id": "af91a5fa-c454-477b-91b8-4ee3160d4eed",
   "metadata": {},
   "outputs": [],
   "source": [
    "import numpy as np\n",
    "import matplotlib.pyplot as plt\n",
    "from scipy.special import wofz \n",
    "import scipy\n",
    "import math\n",
    "from QLT_equations.general_plasma_equations import Z_prime, I, Z"
   ]
  },
  {
   "cell_type": "code",
   "execution_count": 5,
   "id": "ba2d9699-03c1-4878-a6eb-77c7a0aae0aa",
   "metadata": {},
   "outputs": [],
   "source": [
    "from scipy.ndimage import gaussian_filter"
   ]
  },
  {
   "cell_type": "code",
   "execution_count": 6,
   "id": "da1ac8fa-e856-42c0-a9b2-6414deba9b33",
   "metadata": {},
   "outputs": [],
   "source": [
    "%matplotlib inline\n",
    "import matplotlib\n",
    "font = {'family' : 'sans-serif',\n",
    "        'size'   : 14}\n",
    "\n",
    "matplotlib.rc('font', **font)\n",
    "matplotlib.rc('xtick', labelsize=14) \n",
    "matplotlib.rc('ytick', labelsize=14) "
   ]
  },
  {
   "cell_type": "code",
   "execution_count": 7,
   "id": "8cb2cfac-8d1f-4a17-8f27-27e79db01379",
   "metadata": {},
   "outputs": [],
   "source": [
    "# normalization\n",
    "# time is normalized to the electron cyclotron frequency\n",
    "# space is normalized to electron inertial length d_e\n",
    "\n",
    "# match the values in khazanov et al. The nonlinear coupling of electromagnetic ion cyclotron and lower hybrid\n",
    "\n",
    "# cold electron density\n",
    "ne = 1  # ne\n",
    "# cold He+ density\n",
    "nHe = 0.2  # ne\n",
    "# cold O+ density\n",
    "nO = 0.03  # ne\n",
    "# hot proton density\n",
    "npH = 0.  # ne\n",
    "# cold proton density\n",
    "npC = 1 - npH - nO - nHe  # ne\n",
    "\n",
    "# mass ratios\n",
    "mp_me = 100  # dimensionless\n",
    "mO_mp = 16  # dimensionless\n",
    "mHe_mp = 4  # dimensionless\n",
    "\n",
    "omega_pe = 4  # Omega_ce\n",
    "\n",
    "# assume the plasma is isothermal Te=Tp=TO+=THe+\n",
    "alpha_c_perp = np.sqrt(1e-2)  # d_e x Omega_ce\n",
    "alpha_c_par = alpha_c_perp  # d_e x Omega_ce\n",
    "alpha_p_par = alpha_c_perp / np.sqrt(mp_me)  # d_e x Omega_ce\n",
    "alpha_He_par = alpha_c_perp / np.sqrt(mp_me * mHe_mp)  # de x Omega_ce\n",
    "alpha_O_par = alpha_c_perp / np.sqrt(mp_me * mO_mp)  # de x Omega_ce\n",
    "\n",
    "# relative drift is what matters\n",
    "UDp = -0.8 * alpha_p_par\n",
    "UDO = 1.4 * alpha_p_par\n",
    "UDHe = 0.8 * alpha_p_par"
   ]
  },
  {
   "cell_type": "markdown",
   "id": "f922496c-a06a-49f9-a94e-162119168561",
   "metadata": {},
   "source": [
    "# dispersion relation \n",
    "\n",
    "\\begin{align*}\n",
    "    |\\vec{k}|^2  + 2 \\frac{\\omega_{pe}^2}{\\alpha_{\\| c}^2}   \\left[ 1 +  \\Gamma_{0}(\\lambda_{c}) Z(\\xi_{c}^{0}) \\xi_{c}^{0}\\right] \n",
    "    = \\sum_{s=\\{He^{+}, O^{+}, p\\}}\\frac{\\omega_{ps}^2}{\\alpha_{\\| s}^2}  Z' \\left( \\frac{\\omega - k_{\\perp} U_{\\perp, Ds}}{\\alpha_{\\| s} |\\vec{k}|}\\right)\n",
    "\\end{align*}"
   ]
  },
  {
   "cell_type": "code",
   "execution_count": 9,
   "id": "d8c54c08-5b7a-4fd9-b1bd-5d21f76643d1",
   "metadata": {},
   "outputs": [],
   "source": [
    "def cold_electron_response(k_perp_, omega, omega_pe_, alpha_c_perp_, alpha_c_par_, k_par_):\n",
    "    lambda_ =  (k_perp_*alpha_c_perp_/np.sqrt(2))**2\n",
    "    xi_0 = omega/alpha_c_par_/k_par_\n",
    "    return 2 * (omega_pe_**2) / (alpha_c_par_**2) * (1 + I(m=0, Lambda=lambda_) * Z(z=xi_0)*xi_0)\n",
    "\n",
    "def ion_response(omega_pi_, alpha_i_, k_perp_, k_par_, v_0_, n_, omega):\n",
    "    return n_ * (omega_pi_ ** 2) / (alpha_i_ ** 2) *  Z_prime(z=(omega - k_perp_ * v_0_) / (alpha_i_ * np.sqrt(k_par_**2 + k_perp_**2)))"
   ]
  },
  {
   "cell_type": "code",
   "execution_count": 10,
   "id": "fc5fe928-4942-419b-9c8d-f53150b7fadc",
   "metadata": {},
   "outputs": [],
   "source": [
    "    def disp_k_(k_perp,\n",
    "                k_par,\n",
    "                npC_=npC,\n",
    "                nO_=nO,\n",
    "                nHe_=nHe,\n",
    "                omega_pe_=omega_pe,\n",
    "                mp_me_=mp_me,\n",
    "                mO_mp_=mO_mp,\n",
    "                mHe_mp_=mHe_mp,\n",
    "                VDp_=UDp,\n",
    "                VDHe_=UDHe,\n",
    "                VDO_=UDO,\n",
    "                alpha_p_par_=alpha_p_par,\n",
    "                alpha_O_par_=alpha_O_par,\n",
    "                alpha_He_par_=alpha_He_par,\n",
    "                alpha_c_perp_=alpha_c_perp,\n",
    "                alpha_c_par_=alpha_c_par):\n",
    "        return lambda omega: k_perp ** 2 + k_par ** 2 \\\n",
    "                             + cold_electron_response(k_perp_=k_perp, k_par_=k_par, omega=omega, omega_pe_=omega_pe_,\n",
    "                                                      alpha_c_perp_=alpha_c_perp_, alpha_c_par_=alpha_c_par_) \\\n",
    "                             - ion_response(omega_pi_=omega_pe_ / np.sqrt(mp_me_), k_par_=k_par, n_=npC_,\n",
    "                                            alpha_i_=alpha_p_par_,\n",
    "                                            k_perp_=k_perp, v_0_=VDp_, omega=omega) \\\n",
    "                             - ion_response(omega_pi_=omega_pe_ / np.sqrt(mp_me_ * mO_mp_), k_par_=k_par, n_=nO_,\n",
    "                                            alpha_i_=alpha_O_par_, k_perp_=k_perp, v_0_=VDO_, omega=omega) \\\n",
    "                             - ion_response(omega_pi_=omega_pe_ / np.sqrt(mp_me_ * mHe_mp_), k_par_=k_par, n_=nHe_,\n",
    "                                            alpha_i_=alpha_He_par_, k_perp_=k_perp, v_0_=VDHe_, omega=omega)"
   ]
  },
  {
   "cell_type": "code",
   "execution_count": 40,
   "id": "cf5c13d1-ff96-46a8-ac80-30908e6fcfc8",
   "metadata": {},
   "outputs": [
    {
     "name": "stdout",
     "output_type": "stream",
     "text": [
      "(0.0836530024381959+3.216094089196739e-17j)\n",
      "omega_k + i gamma =  (0.0836530024381959+3.216094089196739e-17j)\n",
      "dispersion residual approx =  1.9006161661637107e-13\n"
     ]
    }
   ],
   "source": [
    "k_perp = 0.1 / alpha_c_perp / np.sqrt(2)  # d_e\n",
    "k_par = k_perp * 0.001\n",
    "omega_guess = 2.5 * alpha_p_par * k_perp  # Omega_ce\n",
    "\n",
    "\n",
    "sol_approx = scipy.optimize.newton(disp_k_(k_perp=k_perp, k_par=k_par), omega_guess + 0.005j, tol=1e-16, maxiter=10000, x1=omega_guess*0.99 + 1e-2j)\n",
    "print(sol_approx)\n",
    "print(\"omega_k + i gamma = \", sol_approx)\n",
    "print(\"dispersion residual approx = \", abs(disp_k_(k_perp=k_perp, k_par=k_par)(sol_approx)))"
   ]
  },
  {
   "cell_type": "code",
   "execution_count": 41,
   "id": "aab6654c-9c8b-439b-beea-1641fecfc568",
   "metadata": {},
   "outputs": [
    {
     "data": {
      "text/plain": [
       "0.057295760414500616"
      ]
     },
     "execution_count": 41,
     "metadata": {},
     "output_type": "execute_result"
    }
   ],
   "source": [
    "math.atan(k_par/k_perp) * 180/np.pi"
   ]
  },
  {
   "cell_type": "code",
   "execution_count": 42,
   "id": "8b81b1f1-322d-4cfb-bcb1-9bcceb280c4a",
   "metadata": {},
   "outputs": [],
   "source": [
    "k_perp_ = np.linspace(0.1, 1, 10) / alpha_c_perp / np.sqrt(2) # d_e\n",
    "k_par_ = 0.1 * k_perp_ # d_e\n",
    "sol_ = np.zeros((len(k_perp_), len(k_par_)), dtype=\"complex128\")"
   ]
  },
  {
   "cell_type": "code",
   "execution_count": 43,
   "id": "5e8b3a34-15e5-497d-b1d2-d2b2a217f1f4",
   "metadata": {},
   "outputs": [
    {
     "name": "stdout",
     "output_type": "stream",
     "text": [
      "dispersion residual =  1.5509271655321014e-14\n",
      "dispersion residual =  5.151823790109772e-13\n",
      "An exception occurred\n",
      "An exception occurred\n",
      "An exception occurred\n",
      "An exception occurred\n",
      "An exception occurred\n",
      "An exception occurred\n",
      "An exception occurred\n",
      "An exception occurred\n",
      "dispersion residual =  9.850876673947642e-13\n",
      "dispersion residual =  5.892601460180283e-11\n",
      "dispersion residual =  23.93928748276681\n",
      "An exception occurred\n",
      "An exception occurred\n",
      "An exception occurred\n",
      "An exception occurred\n",
      "An exception occurred\n",
      "An exception occurred\n",
      "An exception occurred\n",
      "dispersion residual =  7.39852817580677e-12\n",
      "dispersion residual =  2.6019321727863657e-11\n",
      "An exception occurred\n",
      "An exception occurred\n",
      "An exception occurred\n",
      "An exception occurred\n",
      "An exception occurred\n",
      "An exception occurred\n",
      "An exception occurred\n",
      "An exception occurred\n",
      "dispersion residual =  3.058567343582518e-13\n",
      "dispersion residual =  1.42679245543677e-11\n",
      "dispersion residual =  318.0513423966652\n",
      "An exception occurred\n",
      "dispersion residual =  122.98384642829987\n",
      "An exception occurred\n",
      "An exception occurred\n",
      "An exception occurred\n",
      "An exception occurred\n",
      "An exception occurred\n",
      "dispersion residual =  1.563195059752369e-13\n",
      "dispersion residual =  1.0608800678941022e-11\n",
      "dispersion residual =  357.12272355500085\n",
      "dispersion residual =  165.35031411383076\n",
      "An exception occurred\n",
      "An exception occurred\n",
      "An exception occurred\n",
      "An exception occurred\n",
      "An exception occurred\n",
      "An exception occurred\n",
      "dispersion residual =  1.0698670614167917e-12\n",
      "dispersion residual =  377.83752827859735\n",
      "dispersion residual =  188.1745975694875\n",
      "dispersion residual =  224.30877256125478\n",
      "An exception occurred\n",
      "An exception occurred\n",
      "An exception occurred\n",
      "An exception occurred\n",
      "An exception occurred\n",
      "An exception occurred\n",
      "dispersion residual =  300.27178219268893\n",
      "dispersion residual =  1.3663293520540845e-12\n",
      "dispersion residual =  328.1919571387388\n",
      "dispersion residual =  302.2004960402439\n",
      "An exception occurred\n",
      "An exception occurred\n",
      "An exception occurred\n",
      "An exception occurred\n",
      "An exception occurred\n",
      "An exception occurred\n",
      "An exception occurred\n",
      "dispersion residual =  1.5917356673209827e-12\n",
      "An exception occurred\n",
      "An exception occurred\n",
      "An exception occurred\n",
      "An exception occurred\n",
      "dispersion residual =  461.26882692081523\n",
      "dispersion residual =  466.6174782736006\n",
      "dispersion residual =  470.35296201345636\n",
      "An exception occurred\n",
      "An exception occurred\n",
      "dispersion residual =  8.572188346207745e-13\n",
      "An exception occurred\n",
      "dispersion residual =  470.31296484473023\n",
      "dispersion residual =  507.82005715205946\n",
      "dispersion residual =  529.8785510531984\n",
      "An exception occurred\n",
      "An exception occurred\n",
      "An exception occurred\n",
      "An exception occurred\n",
      "An exception occurred\n",
      "An exception occurred\n",
      "dispersion residual =  670.6235499640582\n",
      "dispersion residual =  576.6854784049752\n",
      "dispersion residual =  613.7289361096548\n"
     ]
    },
    {
     "name": "stderr",
     "output_type": "stream",
     "text": [
      "/Users/oissan/PycharmProjects/EMIC_secondary_instability/QLT_equations/general_plasma_equations.py:28: RuntimeWarning: overflow encountered in scalar multiply\n",
      "  return -2 * (1 + z * Z(z))\n"
     ]
    },
    {
     "name": "stdout",
     "output_type": "stream",
     "text": [
      "An exception occurred\n",
      "An exception occurred\n",
      "An exception occurred\n",
      "An exception occurred\n",
      "An exception occurred\n"
     ]
    }
   ],
   "source": [
    "for ii in range(len(k_perp_)):\n",
    "    for jj in range(len(k_par_)):\n",
    "        try:\n",
    "            sol_[ii, jj] = scipy.optimize.newton(disp_k_(k_perp=k_perp_[ii], k_par=k_par_[jj]),  omega_guess + 0.005j, tol=1e-16, maxiter=10000, x1=omega_guess*0.99 + 1e-2j)\n",
    "            print(\"dispersion residual = \", abs(disp_k_(k_perp=k_perp_[ii], k_par=k_par_[jj])(sol_[ii, jj])))\n",
    "        except:\n",
    "            print(\"An exception occurred\")"
   ]
  },
  {
   "cell_type": "code",
   "execution_count": 44,
   "id": "b8aefcd0-68c8-4fd8-a16b-cf128f1d4f58",
   "metadata": {},
   "outputs": [
    {
     "data": {
      "image/png": "[encoded data removed]",
      "text/plain": [
       "<Figure size 600x300 with 2 Axes>"
      ]
     },
     "metadata": {},
     "output_type": "display_data"
    }
   ],
   "source": [
    "fig, ax = plt.subplots(figsize=(6, 3))\n",
    "pos = ax.pcolormesh(k_perp_*alpha_c_perp, k_par_*alpha_c_perp, sol_.real * np.sqrt(mp_me))\n",
    "cbar = fig.colorbar(pos)\n",
    "cbar.ax.set_ylabel(r'$\\frac{\\omega_{r}}{|\\Omega_{LH}|}$', labelpad=20, rotation=0, fontsize=20)\n",
    "ax.set_ylabel(r'$k_{\\|}\\rho_{e}$', fontsize=15)\n",
    "ax.set_xlabel(r'$k_{\\perp}\\rho_{e}$', fontsize=15)\n",
    "#ax.set_xticks([180, 200, 220, 240])\n",
    "#ax.set_xlim(175, 245)\n",
    "ax.spines['right'].set_visible(False)\n",
    "ax.spines['top'].set_visible(False)\n",
    "plt.grid(alpha=0.5)\n",
    "plt.tight_layout()\n",
    "#plt.savefig(\"../../figs/vadim_2021/vadim_fig5_a.png\", dpi=300, bbox_inches='tight')"
   ]
  },
  {
   "cell_type": "code",
   "execution_count": 45,
   "id": "2f99eb70-82cf-4721-9073-9ec918f01ae3",
   "metadata": {},
   "outputs": [
    {
     "data": {
      "image/png": "[encoded data removed]",
      "text/plain": [
       "<Figure size 600x300 with 2 Axes>"
      ]
     },
     "metadata": {},
     "output_type": "display_data"
    }
   ],
   "source": [
    "fig, ax = plt.subplots(figsize=(6, 3))\n",
    "pos = ax.pcolormesh(k_perp_*alpha_c_perp, k_par_*alpha_c_perp, sol_.imag * np.sqrt(mp_me), vmin=1E-8)\n",
    "cbar = fig.colorbar(pos)\n",
    "cbar.ax.set_ylabel(r'$\\frac{\\gamma}{|\\Omega_{LH}|}$', labelpad=20, rotation=0, fontsize=20)\n",
    "ax.set_ylabel(r'$k_{\\|}\\rho_{e}$', fontsize=15)\n",
    "ax.set_xlabel(r'$k_{\\perp}\\rho_{e}$', fontsize=15)\n",
    "#ax.set_xticks([180, 200, 220, 240])\n",
    "#ax.set_xlim(175, 245)\n",
    "ax.spines['right'].set_visible(False)\n",
    "ax.spines['top'].set_visible(False)\n",
    "plt.grid(alpha=0.5)\n",
    "plt.tight_layout()\n",
    "#plt.savefig(\"../../figs/vadim_2021/vadim_fig5_a.png\", dpi=300, bbox_inches='tight')"
   ]
  },
  {
   "cell_type": "code",
   "execution_count": null,
   "id": "965f5590-2a27-4385-9228-98ab045aea54",
   "metadata": {},
   "outputs": [],
   "source": []
  },
  {
   "cell_type": "code",
   "execution_count": null,
   "id": "f4b5f7fc-148e-41fd-8805-e864e9ccc9de",
   "metadata": {},
   "outputs": [],
   "source": []
  },
  {
   "cell_type": "code",
   "execution_count": null,
   "id": "4c94879b-ea0a-4fa6-861b-0afcc5178535",
   "metadata": {},
   "outputs": [],
   "source": []
  }
 ],
 "metadata": {
  "kernelspec": {
   "display_name": "Python 3 (ipykernel)",
   "language": "python",
   "name": "python3"
  },
  "language_info": {
   "codemirror_mode": {
    "name": "ipython",
    "version": 3
   },
   "file_extension": ".py",
   "mimetype": "text/x-python",
   "name": "python",
   "nbconvert_exporter": "python",
   "pygments_lexer": "ipython3",
   "version": "3.9.19"
  }
 },
 "nbformat": 4,
 "nbformat_minor": 5
}
