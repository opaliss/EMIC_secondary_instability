{
 "cells": [
  {
   "cell_type": "markdown",
   "id": "6f7507e8-994b-46f6-be78-66c042dc8297",
   "metadata": {},
   "source": [
    "Last modified: Aug. 14th, 2025 (Opal Issan, oissan@ucsd.edu)"
   ]
  },
  {
   "cell_type": "code",
   "execution_count": 1,
   "id": "fc2da342-472c-4397-8611-f7b46fbb30bd",
   "metadata": {},
   "outputs": [],
   "source": [
    "import numpy as np\n",
    "import matplotlib.pyplot as plt\n",
    "import scipy\n",
    "from QLT_equations.dispersion_functions import * "
   ]
  },
  {
   "cell_type": "code",
   "execution_count": 2,
   "id": "ed0f3fea-6075-40f2-b713-fce785ec7783",
   "metadata": {},
   "outputs": [],
   "source": [
    "%matplotlib inline\n",
    "import matplotlib\n",
    "font = {'family' : 'sans-serif',\n",
    "        'size'   : 14}\n",
    "\n",
    "matplotlib.rc('font', **font)\n",
    "matplotlib.rc('xtick', labelsize=14) \n",
    "matplotlib.rc('ytick', labelsize=14) "
   ]
  },
  {
   "cell_type": "markdown",
   "id": "5b3731b3-9ecf-4df5-95ee-8e01ac72c4e8",
   "metadata": {},
   "source": [
    "## Dispersion relation solver for MTSI"
   ]
  },
  {
   "cell_type": "code",
   "execution_count": 21,
   "id": "3219043a-8ed4-4b85-b6c2-6b81fdeacd8a",
   "metadata": {},
   "outputs": [],
   "source": [
    "# normalization\n",
    "# time is normalized to the electron cyclotron frequency\n",
    "# space is normalized to electron inertial length d_e\n",
    "\n",
    "# match the NASA proposal\n",
    "# cold electron density\n",
    "ne = 1  # ne\n",
    "# hot proton density\n",
    "npH = 0.1  # ne\n",
    "# cold proton density\n",
    "npC = 1 - npH # ne\n",
    "\n",
    "# mass ratios\n",
    "mp_me = 100 # dimensionless\n",
    "omega_pe = 4  # Omega_ce\n",
    "\n",
    "# assume the plasma is isothermal Te=Tp=TO+=THe+\n",
    "alpha_c_par = np.sqrt(1e-4)  # d_e x Omega_ce\n",
    "alpha_p_par = alpha_c_par / np.sqrt(mp_me)  # d_e x Omega_ce\n",
    "\n",
    "# relative drift\n",
    "UDp = - alpha_c_par/2"
   ]
  },
  {
   "cell_type": "code",
   "execution_count": 22,
   "id": "6e431106-1abf-4b63-b9ae-3ff6fdcaae07",
   "metadata": {},
   "outputs": [],
   "source": [
    "def disp_k_(k_,\n",
    "            theta_,\n",
    "            npC_=npC,\n",
    "            omega_pe_=omega_pe,\n",
    "            mp_me_=mp_me,\n",
    "            VDp_=UDp,\n",
    "            alpha_c_par_=alpha_c_par,\n",
    "            alpha_p_par_=alpha_p_par,\n",
    "            n_max_=20,\n",
    "            electron_response_=\"hot\"):\n",
    "    if electron_response_==\"hot\":\n",
    "        return lambda omega: 1 + electron_response(k_=k_, omega_=omega, omega_pe_=omega_pe_, theta_=theta_, alpha_c_par_=alpha_c_par_, n_max_=n_max_) \\\n",
    "                             - ion_response(omega_pi_=omega_pe_/np.sqrt(mp_me_), alpha_i_=alpha_p_par_, k_=k_, theta_=theta_, v_0_=VDp_, n_=npC_, omega=omega)\n",
    "    elif electron_response_==\"cold\":\n",
    "        return lambda omega: 1 + electron_response_cold(omega=omega, omega_pe_=omega_pe_, theta_=theta_) \\\n",
    "                             - ion_response(omega_pi_=omega_pe_/np.sqrt(mp_me_), alpha_i_=alpha_p_par_, k_=k_, theta_=theta_, v_0_=VDp_, n_=npC_, omega=omega)"
   ]
  },
  {
   "cell_type": "markdown",
   "id": "7a1606ad-73e5-4c9d-a9a9-74ad11a43830",
   "metadata": {},
   "source": [
    "Cold approximations:\n",
    "\\begin{equation*}\n",
    "    k_{\\perp} = \\frac{\\omega_{\\mathrm{LH}} \\sqrt{c_{cp}}}{U_{x, Dp}} \\qquad \\mathrm{and} \\qquad \\omega_{r} = \\frac{1}{2^{\\frac{4}{3}}} \\left[\\frac{m_{p}}{m_{e}} \\sqrt{c_{cp}}\\cos^2(\\theta_{k})\\right]^{\\frac{1}{3}} \\omega_{\\mathrm{LH}}.\n",
    "\\end{equation*}"
   ]
  },
  {
   "cell_type": "code",
   "execution_count": 23,
   "id": "03e258ba-40cb-4949-a627-15ff5b539743",
   "metadata": {},
   "outputs": [
    {
     "name": "stdout",
     "output_type": "stream",
     "text": [
      "k_ rho_{e} 0.1341640786499874\n",
      "[hot] omega_k + i gamma =  (0.1295033974538779+0.17235734220365947j)\n",
      "[hot] dispersion residual approx =  5.264883140930662e-13\n",
      "\n",
      "[cold] omega_k + i gamma =  (0.1305458319785435+0.17465194387001126j)\n",
      "[cold] dispersion residual approx =  4.7829871682254534e-14\n"
     ]
    }
   ],
   "source": [
    "# quick check\n",
    "k_test = np.abs(1* np.sqrt(1/mp_me) * np.sqrt(npC) / UDp )  # d_e\n",
    "angle = 1 # deg \n",
    "theta_test = -np.pi/2 + angle * np.pi/180\n",
    "\n",
    "omega_guess = 1/(2**(3/4)) * ((mp_me * np.sqrt(npC)*(np.cos(theta_test)**2))**(1/3)) / np.sqrt(mp_me) # Omega_ce\n",
    "\n",
    "sol_approx_hot = scipy.optimize.newton(disp_k_(k_=k_test, theta_=theta_test, electron_response_=\"hot\"), \n",
    "                                   omega_guess + 0.005j, tol=1e-16,\n",
    "                                   maxiter=10000,\n",
    "                                   x1=omega_guess * 0.99 + 1e-2j)\n",
    "\n",
    "sol_approx_cold = scipy.optimize.newton(disp_k_(k_=k_test, theta_=theta_test, electron_response_=\"cold\"), \n",
    "                                   omega_guess + 0.005j, tol=1e-16,\n",
    "                                   maxiter=10000,\n",
    "                                   x1=omega_guess * 0.99 + 1e-2j)\n",
    "\n",
    "print(\"k_ rho_{e}\", k_test*alpha_c_par/np.sqrt(2))\n",
    "print(\"[hot] omega_k + i gamma = \", sol_approx_hot * np.sqrt(mp_me))\n",
    "print(\"[hot] dispersion residual approx = \", abs(disp_k_(k_=k_test, theta_=theta_test, electron_response_=\"hot\")(sol_approx_hot)) )\n",
    "\n",
    "print(\"\\n[cold] omega_k + i gamma = \", sol_approx_cold * np.sqrt(mp_me))\n",
    "print(\"[cold] dispersion residual approx = \", abs(disp_k_(k_=k_test, theta_=theta_test, electron_response_=\"cold\")(sol_approx_cold)) )"
   ]
  },
  {
   "cell_type": "code",
   "execution_count": 24,
   "id": "437966c1-472b-46f4-8bfc-de50f4c807ff",
   "metadata": {},
   "outputs": [
    {
     "data": {
      "text/plain": [
       "0.09616570431754097"
      ]
     },
     "execution_count": 24,
     "metadata": {},
     "output_type": "execute_result"
    }
   ],
   "source": [
    "omega_guess/k_test/alpha_c_par"
   ]
  },
  {
   "cell_type": "code",
   "execution_count": 33,
   "id": "f3ffa1ac-815b-405e-87ed-757d1d7accf3",
   "metadata": {},
   "outputs": [],
   "source": [
    "k_vec = np.abs(np.linspace(0.02,6, 10) * np.sqrt(1/mp_me) * np.sqrt(npC) / UDp) # d_e\n",
    "theta_vec = np.sign(UDp) * (np.pi/2 - np.linspace(0.1, 30,12) * np.pi / 180) # radians\n",
    "\n",
    "omega_guess = 1/(2**(3/4)) * ((mp_me * np.sqrt(npC)*(np.cos(-np.pi/2 + 1*np.pi/180)**2))**(1/3)) / np.sqrt(mp_me) # Omega_ce\n",
    "\n",
    "sol_hot = np.ones((len(k_vec), len(theta_vec)), dtype=\"complex128\") * np.nan\n",
    "sol_cold = np.ones((len(k_vec), len(theta_vec)), dtype=\"complex128\") * np.nan"
   ]
  },
  {
   "cell_type": "code",
   "execution_count": 34,
   "id": "b672977c-7755-429b-9432-ed73d830c2a2",
   "metadata": {
    "scrolled": true
   },
   "outputs": [
    {
     "name": "stdout",
     "output_type": "stream",
     "text": [
      "[cold] An exception occurred!\n",
      "[hot] An exception occurred!\n",
      "[cold] dispersion residual =  2.8573224495404963e-12\n",
      "[hot] dispersion residual =  8.245848621794427e-12\n",
      "[cold] dispersion residual =  4.837366251959335e-12\n",
      "[hot] dispersion residual =  3.5368264631407123e-10\n",
      "[cold] dispersion residual =  4.440918743976615e-10\n",
      "[hot] dispersion residual =  6.825634801179563e-10\n",
      "[cold] dispersion residual =  4.316581694507957e-15\n",
      "[hot] dispersion residual =  4.110173941231552e-11\n",
      "[cold] dispersion residual =  2.7611287952552535e-15\n",
      "[hot] dispersion residual =  9.082820139761551e-11\n",
      "[cold] dispersion residual =  6.661338147750939e-16\n",
      "[hot] dispersion residual =  1.4997466911783554e-11\n",
      "[cold] dispersion residual =  1.5219052656287684e-14\n",
      "[hot] dispersion residual =  1.891901785219326e-10\n",
      "[cold] dispersion residual =  9.091349364437592e-14\n",
      "[hot] dispersion residual =  1.3492595866601553e-11\n",
      "[cold] dispersion residual =  5.747496678028808e-15\n",
      "[hot] dispersion residual =  1.573233551333044e-10\n",
      "[cold] dispersion residual =  4.816862480964774e-13\n",
      "[hot] dispersion residual =  1.898405400146002e-10\n",
      "[cold] dispersion residual =  3.951806753238596e-12\n"
     ]
    },
    {
     "name": "stderr",
     "output_type": "stream",
     "text": [
      "/opt/anaconda3/envs/rom/lib/python3.9/site-packages/scipy/optimize/_zeros_py.py:382: RuntimeWarning: invalid value encountered in scalar divide\n",
      "  p = (-q1 / q0 * p0 + p1) / (1 - q1 / q0)\n"
     ]
    },
    {
     "name": "stdout",
     "output_type": "stream",
     "text": [
      "[hot] An exception occurred!\n",
      "[cold] dispersion residual =  1.340711960782138e-12\n",
      "[hot] dispersion residual =  9.107077306175713e-13\n",
      "[cold] dispersion residual =  6.753520879786067e-13\n",
      "[hot] dispersion residual =  4.261509305680505e-12\n",
      "[cold] dispersion residual =  2.895873695547704e-14\n",
      "[hot] dispersion residual =  3.0639601538461846e-12\n",
      "[cold] dispersion residual =  1.1306563610533836e-12\n",
      "[hot] dispersion residual =  5.833378438573445e-13\n",
      "[cold] dispersion residual =  4.359282471050951e-13\n",
      "[hot] dispersion residual =  6.969116745517129e-13\n",
      "[cold] dispersion residual =  158.311584030337\n",
      "[hot] An exception occurred!\n",
      "[cold] dispersion residual =  3.7836483797887177e-13\n",
      "[hot] dispersion residual =  2.2090407480245865e-12\n",
      "[cold] dispersion residual =  4.8863424105934246e-15\n",
      "[hot] dispersion residual =  2.230070523899302e-11\n",
      "[cold] dispersion residual =  1.9894782312547017e-17\n",
      "[hot] dispersion residual =  1.529272567253895e-12\n",
      "[cold] dispersion residual =  3.875824447262413e-13\n",
      "[hot] dispersion residual =  9.197393243351026e-12\n",
      "[cold] dispersion residual =  2.656874720230462e-12\n",
      "[hot] dispersion residual =  1.5004682376906415e-11\n",
      "[cold] dispersion residual =  5.551115190607109e-15\n",
      "[hot] dispersion residual =  1.7168688259317918e-12\n",
      "[cold] dispersion residual =  9.603236284521756e-14\n",
      "[hot] dispersion residual =  1.9648980086061144e-13\n",
      "[cold] dispersion residual =  1.9865039119713783e-13\n",
      "[hot] dispersion residual =  4.433709808882787e-13\n",
      "[cold] dispersion residual =  2.1334223128236173e-13\n",
      "[hot] dispersion residual =  2.1452772597171171e-13\n",
      "[cold] dispersion residual =  7.993605777301127e-15\n",
      "[hot] dispersion residual =  4.4535306566273115e-14\n",
      "[cold] dispersion residual =  4.2780337774645346e-14\n",
      "[hot] dispersion residual =  1.8312851990543596e-13\n",
      "[cold] dispersion residual =  1.4228607195221903e-13\n"
     ]
    },
    {
     "name": "stderr",
     "output_type": "stream",
     "text": [
      "/Users/oissan/PycharmProjects/EMIC_secondary_instability/QLT_equations/general_plasma_equations.py:19: RuntimeWarning: invalid value encountered in scalar multiply\n",
      "  return 1j * np.sqrt(np.pi) * wofz(z)\n"
     ]
    },
    {
     "name": "stdout",
     "output_type": "stream",
     "text": [
      "[hot] An exception occurred!\n",
      "[cold] dispersion residual =  5.594324950075173e-13\n",
      "[hot] dispersion residual =  5.092603874899078e-13\n",
      "[cold] dispersion residual =  2.765956157924874e-12\n",
      "[hot] dispersion residual =  9.414707305250745e-14\n",
      "[cold] dispersion residual =  9.103849854160348e-15\n",
      "[hot] dispersion residual =  2.5757213720775135e-13\n",
      "[cold] dispersion residual =  3.789802223097041e-14\n",
      "[hot] dispersion residual =  8.948398726012191e-14\n",
      "[cold] dispersion residual =  9.370282327836338e-14\n",
      "[hot] dispersion residual =  6.811849299192434e-14\n",
      "[cold] dispersion residual =  3.663736102662445e-15\n",
      "[hot] dispersion residual =  1.222226216734698e-13\n",
      "[cold] An exception occurred!\n",
      "[hot] An exception occurred!\n",
      "[cold] dispersion residual =  8.559869918940978e-14\n",
      "[hot] dispersion residual =  2.3313626137889344e-14\n",
      "[cold] dispersion residual =  1.2357176272256993e-13\n",
      "[hot] dispersion residual =  1.0730430453903463e-13\n",
      "[cold] dispersion residual =  2.570075899968049e-13\n",
      "[hot] dispersion residual =  2.1686518084444212e-13\n",
      "[cold] dispersion residual =  1.37882369488729e-13\n",
      "[hot] dispersion residual =  3.064215547965432e-14\n",
      "[cold] dispersion residual =  3.9241005173051e-14\n",
      "[hot] An exception occurred!\n",
      "[cold] dispersion residual =  3.305080027065897e-13\n",
      "[hot] dispersion residual =  7.28451715071969e-14\n",
      "[cold] dispersion residual =  2.9015182389960535e-13\n",
      "[hot] dispersion residual =  7.727152749874831e-14\n",
      "[cold] dispersion residual =  6.272852069423765e-14\n",
      "[hot] dispersion residual =  2.3980929067210023e-13\n",
      "[cold] dispersion residual =  1.872946305603682e-12\n",
      "[hot] dispersion residual =  2.1782586709499648e-13\n",
      "[cold] dispersion residual =  2.057976992771576e-14\n",
      "[hot] dispersion residual =  5.127850106639752e-14\n",
      "[cold] dispersion residual =  4.618527782440651e-14\n",
      "[hot] dispersion residual =  3.034325405163787e-14\n",
      "[cold] An exception occurred!\n",
      "[hot] An exception occurred!\n",
      "[cold] dispersion residual =  3.606296776543425e-13\n",
      "[hot] dispersion residual =  7.816208614199565e-14\n",
      "[cold] dispersion residual =  3.778674686249177e-14\n",
      "[hot] dispersion residual =  2.6001034513542094e-14\n",
      "[cold] dispersion residual =  5.402578411571408e-14\n",
      "[hot] dispersion residual =  2.3914935841127267e-14\n",
      "[cold] dispersion residual =  2.886579864025407e-14\n",
      "[hot] dispersion residual =  1.507288760336424e-14\n",
      "[cold] dispersion residual =  3.42726405150535e-14\n",
      "[hot] dispersion residual =  8.80055550317899\n",
      "[cold] dispersion residual =  5.163671038754328e-14\n",
      "[hot] An exception occurred!\n",
      "[cold] dispersion residual =  11.913464474712237\n",
      "[hot] An exception occurred!\n",
      "[cold] dispersion residual =  9.947598301093767e-14\n",
      "[hot] dispersion residual =  2.2831293811551966e-13\n",
      "[cold] dispersion residual =  3.330761857362943e-14\n",
      "[hot] dispersion residual =  2.237209587739501e-15\n",
      "[cold] dispersion residual =  2.3381297247954507e-13\n",
      "[hot] dispersion residual =  4.319270561714128e-15\n",
      "[cold] dispersion residual =  1.7319794185075842e-14\n",
      "[hot] dispersion residual =  1.6600061940936416e-15\n",
      "[cold] An exception occurred!\n"
     ]
    },
    {
     "name": "stderr",
     "output_type": "stream",
     "text": [
      "/Users/oissan/PycharmProjects/EMIC_secondary_instability/QLT_equations/dispersion_functions.py:36: RuntimeWarning: invalid value encountered in scalar divide\n",
      "  return - (np.cos(theta_) ** 2) * (omega_pe_ ** 2) / (omega ** 2) + omega_pe_ ** 2 * (np.sin(theta_) ** 2)\n"
     ]
    },
    {
     "name": "stdout",
     "output_type": "stream",
     "text": [
      "[hot] An exception occurred!\n",
      "[cold] dispersion residual =  3.996802927747772e-15\n",
      "[hot] dispersion residual =  1.372270043705852e-13\n",
      "[cold] dispersion residual =  3.3306697243967093e-14\n",
      "[hot] dispersion residual =  1.4214757307157084e-14\n",
      "[cold] dispersion residual =  1.4043333874306804e-14\n",
      "[hot] dispersion residual =  2.5121479338940402e-14\n",
      "[cold] dispersion residual =  1.1243440757244517e-14\n",
      "[hot] dispersion residual =  6.466036496704424e-15\n",
      "[cold] dispersion residual =  1.1435297153639112e-14\n",
      "[hot] An exception occurred!\n",
      "[cold] dispersion residual =  3.1776437161565096e-14\n",
      "[hot] An exception occurred!\n",
      "[cold] dispersion residual =  2.6645352591003757e-14\n",
      "[hot] An exception occurred!\n",
      "[cold] dispersion residual =  1.0658146118597975e-14\n",
      "[hot] dispersion residual =  2.1004058208947406e-14\n",
      "[cold] dispersion residual =  4.618602679550943e-14\n",
      "[hot] dispersion residual =  1.5178823674155773e-14\n",
      "[cold] dispersion residual =  1.4299697699188776e-13\n",
      "[hot] dispersion residual =  1.3278657246444017e-14\n",
      "[cold] dispersion residual =  7.400830571394617e-14\n",
      "[hot] dispersion residual =  0.7080079121446171\n",
      "[cold] dispersion residual =  15.908057756762922\n",
      "[hot] An exception occurred!\n",
      "[cold] dispersion residual =  1.5545419327255768e-15\n",
      "[hot] dispersion residual =  13.123087688256982\n",
      "[cold] dispersion residual =  8.881943080432204e-16\n",
      "[hot] dispersion residual =  1.4922074803802407e-14\n",
      "[cold] dispersion residual =  2.044288116906409e-14\n",
      "[hot] dispersion residual =  3.965097456690663e-14\n",
      "[cold] dispersion residual =  2.5757174171303632e-14\n",
      "[hot] dispersion residual =  2.847716647714797e-14\n",
      "[cold] dispersion residual =  1.6165091241761062e-14\n",
      "[hot] An exception occurred!\n",
      "[cold] dispersion residual =  7.595550476567598e-15\n",
      "[hot] An exception occurred!\n",
      "[cold] dispersion residual =  4.7207330545682824e-15\n",
      "[hot] An exception occurred!\n",
      "[cold] dispersion residual =  2.9777166713245526e-14\n",
      "[hot] An exception occurred!\n",
      "[cold] An exception occurred!\n",
      "[hot] An exception occurred!\n",
      "[cold] dispersion residual =  3.064231501605325e-14\n",
      "[hot] dispersion residual =  0.6642476835032769\n",
      "[cold] dispersion residual =  2.620126877044513e-14\n",
      "[hot] dispersion residual =  0.7604946172158346\n",
      "[cold] dispersion residual =  16.209235106311056\n",
      "[hot] An exception occurred!\n",
      "[cold] dispersion residual =  1.3988897109819629e-14\n",
      "[hot] dispersion residual =  10.252613346041647\n",
      "[cold] dispersion residual =  1.0391687912188744e-13\n",
      "[hot] An exception occurred!\n",
      "[cold] dispersion residual =  3.3750836131361777e-14\n",
      "[hot] dispersion residual =  3.14018491736755e-14\n",
      "[cold] dispersion residual =  4.0229310842562066e-15\n",
      "[hot] dispersion residual =  1.439854855165659e-14\n",
      "[cold] dispersion residual =  7.283604593613869e-15\n",
      "[hot] dispersion residual =  13.770993178430544\n",
      "[cold] dispersion residual =  6.854671959125871e-15\n",
      "[hot] An exception occurred!\n",
      "[cold] dispersion residual =  1.4541802722008283e-14\n",
      "[hot] An exception occurred!\n",
      "[cold] dispersion residual =  9.240897845457147e-15\n",
      "[hot] An exception occurred!\n",
      "[cold] dispersion residual =  1.0695084443661336e-14\n",
      "[hot] An exception occurred!\n",
      "[cold] An exception occurred!\n",
      "[hot] An exception occurred!\n",
      "[cold] dispersion residual =  6.233089088255905e-15\n",
      "[hot] An exception occurred!\n",
      "[cold] dispersion residual =  16.403356054343135\n",
      "[hot] An exception occurred!\n",
      "[cold] dispersion residual =  4.207752203013366e-14\n",
      "[hot] An exception occurred!\n",
      "[cold] dispersion residual =  4.2965672456893344e-14\n",
      "[hot] An exception occurred!\n",
      "[cold] dispersion residual =  8.948477395976334e-14\n",
      "[hot] An exception occurred!\n",
      "[cold] dispersion residual =  1.3766940375559453e-14\n",
      "[hot] dispersion residual =  0.5541309974486344\n",
      "[cold] dispersion residual =  5.4930801582266845e-15\n",
      "[hot] An exception occurred!\n",
      "[cold] dispersion residual =  4.3737714791252564e-15\n",
      "[hot] An exception occurred!\n",
      "[cold] dispersion residual =  4.0943002132167226e-15\n",
      "[hot] An exception occurred!\n",
      "[cold] dispersion residual =  1.6426799243679895e-14\n",
      "[hot] An exception occurred!\n",
      "[cold] dispersion residual =  2.156006234688298e-14\n",
      "[hot] An exception occurred!\n",
      "[cold] dispersion residual =  7.32410687763558e-15\n",
      "[hot] An exception occurred!\n",
      "[cold] An exception occurred!\n",
      "[hot] An exception occurred!\n",
      "[cold] An exception occurred!\n",
      "[hot] An exception occurred!\n",
      "[cold] dispersion residual =  6.372708546520431e-14\n",
      "[hot] dispersion residual =  10.505099566471225\n",
      "[cold] dispersion residual =  5.8841820321932965e-15\n",
      "[hot] dispersion residual =  11.03904129594913\n",
      "[cold] dispersion residual =  1.0998762455766425e-15\n",
      "[hot] An exception occurred!\n",
      "[cold] dispersion residual =  1.8434404172612055e-14\n",
      "[hot] An exception occurred!\n",
      "[cold] dispersion residual =  3.0198691274000595e-14\n",
      "[hot] An exception occurred!\n",
      "[cold] dispersion residual =  4.021398830883446e-15\n",
      "[hot] An exception occurred!\n",
      "[cold] dispersion residual =  2.220446049250313e-15\n",
      "[hot] An exception occurred!\n",
      "[cold] dispersion residual =  5.717648576819556e-15\n",
      "[hot] An exception occurred!\n",
      "[cold] dispersion residual =  9.607118501968132e-15\n",
      "[hot] An exception occurred!\n",
      "[cold] dispersion residual =  7.32410687763558e-15\n",
      "[hot] An exception occurred!\n",
      "[cold] dispersion residual =  1.0731900677991188e-14\n",
      "[hot] An exception occurred!\n"
     ]
    }
   ],
   "source": [
    "for ii in range(len(k_vec)):\n",
    "    for jj in range(len(theta_vec)):\n",
    "        try:\n",
    "            sol_cold[ii, jj] = scipy.optimize.newton(disp_k_(k_=k_vec[ii], theta_=theta_vec[jj], electron_response_=\"cold\"), \n",
    "                                                     omega_guess + 1e-2j, \n",
    "                                                     tol=1e-16, maxiter=1000, x1=omega_guess*0.5 + 1e-2j)\n",
    "            error = abs(disp_k_(k_=k_vec[ii], theta_=theta_vec[jj],  electron_response_=\"cold\")(sol_cold[ii, jj]))\n",
    "            print(\"[cold] dispersion residual = \", error)\n",
    "            if error > 1e-8:\n",
    "                sol_cold[ii, jj] = np.nan\n",
    "        except:\n",
    "            print(\"[cold] An exception occurred!\")\n",
    "        try:\n",
    "            sol_hot[ii, jj] = scipy.optimize.newton(disp_k_(k_=k_vec[ii], theta_=theta_vec[jj], electron_response_=\"hot\"),  \n",
    "                                                    omega_guess + 1e-2j, \n",
    "                                                    tol=1e-16, maxiter=10000, x1=sol_cold[ii, jj])\n",
    "            error = abs(disp_k_(k_=k_vec[ii], theta_=theta_vec[jj], electron_response_=\"hot\")(sol_hot[ii, jj]))\n",
    "            print(\"[hot] dispersion residual = \", error)\n",
    "            if error > 1e-5:\n",
    "                sol_hot[ii, jj] = np.nan\n",
    "        except:\n",
    "            print(\"[hot] An exception occurred!\")"
   ]
  },
  {
   "cell_type": "code",
   "execution_count": 35,
   "id": "557ecf0f-b920-4292-9af1-51af5a4ce85d",
   "metadata": {},
   "outputs": [
    {
     "data": {
      "image/png": "[encoded data removed]",
      "text/plain": [
       "<Figure size 1000x300 with 4 Axes>"
      ]
     },
     "metadata": {},
     "output_type": "display_data"
    }
   ],
   "source": [
    "fig, ax = plt.subplots(ncols=2, figsize=(10, 3))\n",
    "pos = ax[0].contourf(k_vec*alpha_c_par/np.sqrt(2), theta_vec*180/np.pi, \n",
    "                  sol_cold.real.T * np.sqrt(mp_me))\n",
    "\n",
    "cbar = fig.colorbar(pos)\n",
    "cbar.ax.set_ylabel(r'$\\frac{\\omega_{r}}{|\\Omega_{LH}|}$', labelpad=20, rotation=0, fontsize=20)\n",
    "ax[0].set_xlabel(r'$|\\vec{k}|\\rho_{e}$', fontsize=15)\n",
    "ax[0].set_ylabel(r'$\\theta$ [deg.]', fontsize=15)\n",
    "ax[0].spines['right'].set_visible(False)\n",
    "ax[0].spines['top'].set_visible(False)\n",
    "ax[0].set_title(\"cold electron response\")\n",
    "\n",
    "\n",
    "pos = ax[1].contourf(k_vec*alpha_c_par/np.sqrt(2), theta_vec*180/np.pi, \n",
    "                  sol_hot.real.T * np.sqrt(mp_me))\n",
    "ax[1].set_title(\"hot electron response\")\n",
    "cbar = fig.colorbar(pos)\n",
    "cbar.ax.set_ylabel(r'$\\frac{\\omega_{r}}{|\\Omega_{LH}|}$', labelpad=20, rotation=0, fontsize=20)\n",
    "ax[1].set_xlabel(r'$|\\vec{k}|\\rho_{e}$', fontsize=15)\n",
    "ax[1].set_ylabel(r'$\\theta$ [deg.]', fontsize=15)\n",
    "ax[1].spines['right'].set_visible(False)\n",
    "ax[1].spines['top'].set_visible(False)\n",
    "\n",
    "plt.tight_layout()\n",
    "# plt.savefig(\"figures/linear_theory/MTSI/omega_r_VD_\" + str(round(UDp/alpha_p_par, 1)) + \"_mpme_\" + str(round(mp_me))+ \".png\", dpi=300, bbox_inches='tight')"
   ]
  },
  {
   "cell_type": "code",
   "execution_count": 36,
   "id": "82e3c632-81fc-40ba-9437-78207f0ac86b",
   "metadata": {},
   "outputs": [
    {
     "data": {
      "image/png": "[encoded data removed]",
      "text/plain": [
       "<Figure size 1000x300 with 4 Axes>"
      ]
     },
     "metadata": {},
     "output_type": "display_data"
    }
   ],
   "source": [
    "fig, ax = plt.subplots(ncols=2, figsize=(10, 3))\n",
    "pos = ax[0].contourf(k_vec*alpha_c_par/np.sqrt(2), theta_vec*180/np.pi, \n",
    "                  sol_cold.imag.T * np.sqrt(mp_me), vmin=1E-4, vmax=0.9, levels=np.linspace(1e-4, 0.6, 25))\n",
    "\n",
    "cbar = fig.colorbar(pos)\n",
    "cbar.ax.set_ylabel(r'$\\frac{\\gamma}{|\\Omega_{LH}|}$', labelpad=20, rotation=0, fontsize=20)\n",
    "ax[0].set_xlabel(r'$|\\vec{k}| \\rho_{e}$', fontsize=15)\n",
    "ax[0].set_ylabel(r'$\\theta$ [deg.]', fontsize=15)\n",
    "cbar.set_ticks([1e-4, 0.1, 0.2])\n",
    "cbar.set_ticklabels([\"$10^{-4}$\", \"0.1\", \"0.2\"])\n",
    "ax[0].spines['right'].set_visible(False)\n",
    "ax[0].spines['top'].set_visible(False)\n",
    "ax[0].set_title(\"cold electron response\")\n",
    "\n",
    "\n",
    "pos = ax[1].contourf(k_vec*alpha_c_par/np.sqrt(2), theta_vec*180/np.pi, \n",
    "                  sol_hot.imag.T * np.sqrt(mp_me),  vmin=1E-4, vmax=0.9, levels=np.linspace(1e-4, 0.9, 25))\n",
    "\n",
    "cbar = fig.colorbar(pos)\n",
    "cbar.ax.set_ylabel(r'$\\frac{\\gamma}{|\\Omega_{LH}|}$', labelpad=20, rotation=0, fontsize=20)\n",
    "ax[1].set_xlabel(r'$|\\vec{k}| \\rho_{e}$', fontsize=15)\n",
    "ax[1].set_title(\"hot electron response\")\n",
    "ax[1].set_ylabel(r'$\\theta$ [deg.]', fontsize=15)\n",
    "cbar.set_ticks([1e-4, 0.1, 0.2])\n",
    "cbar.set_ticklabels([\"$10^{-4}$\", \"0.1\", \"0.2\"])\n",
    "ax[1].spines['right'].set_visible(False)\n",
    "ax[1].spines['top'].set_visible(False)\n",
    "\n",
    "\n",
    "plt.tight_layout()\n",
    "\n",
    "#plt.savefig(\"figures/linear_theory/MTSI/gamma_VD_\" + str(round(UDp/alpha_p_par, 1))  + \"_mpme_\" + str(round(mp_me))+ \".png\", dpi=300, bbox_inches='tight')"
   ]
  },
  {
   "cell_type": "code",
   "execution_count": 37,
   "id": "5041e682-9ff0-45be-bb24-19f8432283e3",
   "metadata": {},
   "outputs": [
    {
     "data": {
      "image/png": "[encoded data removed]",
      "text/plain": [
       "<Figure size 1000x300 with 1 Axes>"
      ]
     },
     "metadata": {},
     "output_type": "display_data"
    }
   ],
   "source": [
    "fig, ax = plt.subplots(figsize=(10, 3))\n",
    "ii = 6\n",
    "ax.plot(k_vec, np.abs(sol_cold[:, ii] / k_vec/alpha_c_par/np.cos(theta_vec[ii])))\n",
    "ax.axvline(k_test)\n",
    "ax.set_title(r\"$\\theta = $\" + str(180*theta_vec[ii]/np.pi))\n",
    "ax.set_yscale(\"log\")\n",
    "plt.tight_layout()"
   ]
  },
  {
   "cell_type": "code",
   "execution_count": null,
   "id": "3cd4b3eb-fa07-4c70-b5d4-cc6a033d7296",
   "metadata": {},
   "outputs": [],
   "source": []
  },
  {
   "cell_type": "code",
   "execution_count": null,
   "id": "c967bb28-4948-4c63-b5db-468c4e65bfb4",
   "metadata": {},
   "outputs": [],
   "source": []
  }
 ],
 "metadata": {
  "kernelspec": {
   "display_name": "Python 3 (ipykernel)",
   "language": "python",
   "name": "python3"
  },
  "language_info": {
   "codemirror_mode": {
    "name": "ipython",
    "version": 3
   },
   "file_extension": ".py",
   "mimetype": "text/x-python",
   "name": "python",
   "nbconvert_exporter": "python",
   "pygments_lexer": "ipython3",
   "version": "3.9.19"
  }
 },
 "nbformat": 4,
 "nbformat_minor": 5
}
